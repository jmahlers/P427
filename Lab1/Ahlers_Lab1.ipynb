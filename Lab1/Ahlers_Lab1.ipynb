{
 "cells": [
  {
   "cell_type": "markdown",
   "metadata": {},
   "source": [
    "# Lab 1 : An Introduction"
   ]
  },
  {
   "cell_type": "markdown",
   "metadata": {},
   "source": [
    "### Objectives\n",
    "\n",
    "The main purpose of this lab will be to get us working with the tools, working as a group, and ironing out all the details in the process. The same procedure will be used for all the labs! All group members must be able to use Jupyter and submit assignments on their own.  \n",
    "\n",
    "The main objectives for this assignment will be developing a work flow for the labs, including working with your group, submitting the lab, etc.\n"
   ]
  },
  {
   "cell_type": "markdown",
   "metadata": {},
   "source": [
    "## Structure Overview\n",
    "\n",
    "The labs and homeworks will be structured in a specific way.  There are text cells and code cells.\n",
    "The code cells may already contain code (such as the first code cell below).  You can run this cell as provided and add code as you wish.  In addition it may also contain the code\n",
    "```\n",
    "# YOUR CODE HERE\n",
    "raise NotImplementedError()\n",
    "```\n",
    "This is a placeholder that will raise an error.  You should delete these two lines and replace them with code you have written. You may also occasionally be asked to provide a text reply. In this case, you will need to edit an empty markdown cell, as below,\n"
   ]
  },
  {
   "cell_type": "markdown",
   "metadata": {},
   "source": []
  },
  {
   "cell_type": "markdown",
   "metadata": {},
   "source": [
    "## Good Coding Practices\n",
    "\n",
    "We should always explicitly load the modules we wish to use. Further, we should do this is a way that does not \"pollute the namespace\". We will always do that in this course!\n",
    "\n",
    "As one example of why this is important consider the cosine function. In standard Python the cosine function is not defined. Instead we need to load it from somewhere. There are at least three places would could get it from:\n",
    "\n",
    "1. Python math module: This only operates on single numbers. In our work we will usually want our functions to work on arrays.\n",
    "2. The numpy module: This is the one we want to use and the one that gets loaded automatically in various circumstances.\n",
    "3. The sympy module: This would be the one we wanted if we were doing symbolic manipulations (sadly we will not be doing so this semester).\n",
    "\n",
    "If we were to load all the functions in each of these modules into the default name space and tried to just call the cos function which one do we get? It will depend on which one was loaded most recently! Since we do not want the behavior of our code to depend on the load order of modules or the state of our kernel we should explicitly load the module we want and use the function from that module.\n"
   ]
  },
  {
   "cell_type": "markdown",
   "metadata": {},
   "source": [
    "### Boiler plate\n",
    "\n",
    "At the top of all of our documents we should load all the modules we want to use. This will become standard practice in labs from now on. One thing we will always want is the numpy module. It can be loaded as\n",
    "\n",
    "```\n",
    "import numpy as np\n",
    "```\n",
    "\n",
    "The import command loads a module for us. It creates a namespace with the same name as the module. Thus to access anything defined in the module we would need to prepend it with numpy. (notice there is a 'dot' after the numpy). For example, to access the cosine function we would use numpy.cos. This is a lot of typing. Fortunately we can give it a shorter name (an alias), which is what the as phrase does for us. Here we have renamed numpy to be np so that we can access the cosine function as np.cos.\n",
    "\n",
    "Though we can name our modules anything we want when we import them, there are some standard conventions that have evolved over the years. It is best to use the standard conventions whenever possible. Calling the numpy module np is quite standard, you will find it in almost any modern example online and is what you should always use.\n",
    "\n",
    "### Initialization\n",
    "\n",
    "Initialize your environment by importing all the required modules. For now just import the numpy module. In the future, there may be other modules we need. Those can be added as needed."
   ]
  },
  {
   "cell_type": "code",
   "execution_count": 1,
   "metadata": {},
   "outputs": [],
   "source": [
    "import numpy as np\n",
    "import matplotlib.pyplot as plt\n",
    "%matplotlib inline"
   ]
  },
  {
   "cell_type": "markdown",
   "metadata": {},
   "source": [
    "## Defining Functions\n",
    "\n",
    "Defining functions to perform calculations for variable inputs is an essential tool.  Here we will define a function to compute $x^a$ for arbitrary $x$ and $a$.  To begin we want our function to be created as\n",
    "\n",
    "    def mypow(x, a) :\n",
    "\n",
    "Complete the definition of this function by filling in the `Code` cell below.\n",
    "\n",
    "Notes:\n",
    "- Exponentiation is performed using `**`.\n",
    "- Do not forget to `return` your answer from the function.\n",
    "- As mentioned in Homework 1, do not forget to remove the lines\n",
    "```\n",
    "# YOUR CODE HERE\n",
    "raise NotImplementedError()\n",
    "```"
   ]
  },
  {
   "cell_type": "code",
   "execution_count": 2,
   "metadata": {},
   "outputs": [],
   "source": [
    "def mypow(x, a) :\n",
    "    # YOUR CODE HERE\n",
    "    return (x ** a)"
   ]
  },
  {
   "cell_type": "markdown",
   "metadata": {},
   "source": [
    "Now that it is defined you should test it.  Run your function and verify it correctly calculates $2^2$, $2^3$, $3^2$, and any other cases you want to try.\n",
    "(You should try multiple cases, but only need to leave one of them in the cell below.)"
   ]
  },
  {
   "cell_type": "code",
   "execution_count": 3,
   "metadata": {},
   "outputs": [
    {
     "output_type": "stream",
     "name": "stdout",
     "text": [
      "32\n"
     ]
    }
   ],
   "source": [
    "# YOUR CODE HERE\n",
    "print(mypow(2,5))"
   ]
  },
  {
   "cell_type": "markdown",
   "metadata": {},
   "source": [
    "A function can have default values, that is, optional arguments that do not need to be specified when the function is called.  Suppose we *typically* want to calculate $x^2$.  In this case it would be tedious to constantly set $a$ to 2 every time we call `mypow`.  To avoid this, we can set a default value for $a$ when we define the function.  To do so below we modify the way we define the function.  Now we start with\n",
    "\n",
    "    def mypow(x, a=2) :\n",
    "    \n",
    "Redefine the `mypow` function using the default value for `a`.  Afterward add a new `Code` cell below the function definition and run a few tests.  You should run tests like `mypow(2)` and `mypow(2,3)`, *etc.* to see how they behave.\n",
    "\n",
    "Note: The code in the body of our function does **not change**.  Only how we create the function (the function signature) changes."
   ]
  },
  {
   "cell_type": "code",
   "execution_count": 4,
   "metadata": {},
   "outputs": [
    {
     "output_type": "stream",
     "name": "stdout",
     "text": [
      "16\n32\n"
     ]
    }
   ],
   "source": [
    "def mypow(x, a=2) :\n",
    "    # YOUR CODE HERE\n",
    "    return (x ** a)\n",
    "print(mypow(4))\n",
    "print(mypow(2,5))"
   ]
  },
  {
   "cell_type": "markdown",
   "metadata": {},
   "source": [
    "The function you wrote works for more than just numbers.  We can also pass an array to it and it will do the \"right thing\" with no extra work required by us!  Let $x$ be an array of 10 values from 0 to 2.  Create this array and pass it to `mypow`. You should find it returns an array of the squares of all the values you passed in."
   ]
  },
  {
   "cell_type": "code",
   "execution_count": 5,
   "metadata": {},
   "outputs": [
    {
     "output_type": "stream",
     "name": "stdout",
     "text": [
      "[0 1 4 1 1 4 4 1 0 1]\n[1 2 4 2 2 4 4 2 1 2]\n"
     ]
    }
   ],
   "source": [
    "# YOUR CODE HERE\n",
    "x = np.array([0,1,2,1,1,2,2,1,0,1])\n",
    "print(mypow(x,2))\n",
    "print(mypow(2,x))"
   ]
  },
  {
   "cell_type": "markdown",
   "metadata": {},
   "source": [
    "This would also \"magically\" work if $x$ were a single number and $a$ were an array. (Feel free to test this yourself). Unfortunately, the function does not \"magically\" work if both $x$ and $a$ are arrays of different lengths.  (If they are the same length then the function would not produce an error.  Whether it produces something useful or not depends on your expectations!) For example, let $a$ be an array from 1 to 4 in steps of 1.  Using this $a$ and the $x$ array from the previous part try to run `mypow` and see what happens.  You should get an error."
   ]
  },
  {
   "cell_type": "code",
   "execution_count": 6,
   "metadata": {},
   "outputs": [
    {
     "output_type": "execute_result",
     "data": {
      "text/plain": [
       "array([  1,   4,  27, 256], dtype=int32)"
      ]
     },
     "metadata": {},
     "execution_count": 6
    }
   ],
   "source": [
    "# YOUR CODE HERE\n",
    "x=np.array([1,2,3,4])\n",
    "a=np.array([1,2,3,4])\n",
    "mypow(x,a)"
   ]
  },
  {
   "cell_type": "markdown",
   "metadata": {},
   "source": [
    "# Sensitivity to Choice of Algorithm\n",
    "\n",
    "Mathematically equivalent equations are **not** all equally good for numerical work.  In fact, the mathematical expressions we use for defining many quantities (derivatives, integrals, *etc.*) are often very poor for numerical work.  Here we will explore this using a simple example."
   ]
  },
  {
   "cell_type": "markdown",
   "metadata": {},
   "source": [
    "## Calculation of $1/3^n$\n",
    "\n",
    "There are many, many ways to calculate $1/3^n$.  Here we will explore two recursion relations. While a rather artificial example, this will help to demonstrate the difference a good algorithm can make!\n",
    "\n",
    "\n",
    "### An aside: division and forcing floating point numbers\n",
    "\n",
    "In Python 3 division of integers that should produce a floating point number will in fact produce a floating point number.  This may seem obvious to you, but it is **not the case in most other (older) languages** and even is not true in Python 2.  In other languages 1/4 = 0, not 0.25, since it is doing integer division and returned the closest integer by truncating the decimal places.  This behavior was changed in Python 3.\n",
    "\n",
    "This can lead to some problems and inconsistencies.  Take for example the code below, where we compute $1/3^n$ directly for a range of $n$."
   ]
  },
  {
   "cell_type": "code",
   "execution_count": 7,
   "metadata": {},
   "outputs": [
    {
     "output_type": "stream",
     "name": "stdout",
     "text": [
      "[1.00000000e+00 3.33333333e-01 1.11111111e-01 3.70370370e-02\n 1.23456790e-02 4.11522634e-03 1.37174211e-03 4.57247371e-04\n 1.52415790e-04 5.08052634e-05 1.69350878e-05 5.64502927e-06\n 1.88167642e-06 6.27225474e-07 2.09075158e-07 6.96917194e-08\n 2.32305731e-08 7.74352438e-09 2.58117479e-09 8.60391597e-10\n 2.86797199e-10 9.55990664e-11 3.18663555e-11 1.06221185e-11\n 3.54070616e-12 1.18023539e-12 3.93411796e-13 1.31137265e-13\n 4.37124217e-14 1.45708072e-14 4.85693575e-15 1.61897858e-15\n 5.39659528e-16 1.79886509e-16 5.99621697e-17 1.99873899e-17\n 6.66246331e-18 2.22082110e-18 7.40273701e-19 2.46757900e-19\n 8.22526334e-20 2.74175445e-20 9.13918149e-21 3.04639383e-21\n 1.01546461e-21 3.38488203e-22 1.12829401e-22 3.76098004e-23\n 1.25366001e-23 4.17886671e-24 1.39295557e-24]\n"
     ]
    }
   ],
   "source": [
    "N = 50\n",
    "n = np.arange(N+1)\n",
    "result = 1/3.**n\n",
    "print(result)"
   ]
  },
  {
   "cell_type": "markdown",
   "metadata": {},
   "source": [
    "Here floating point division is forced, and in fact the `3.**n` is a floating point one, due to the added decimal point. Why is this useful?  Let's check.  Suppose we did not force floating point, then we find the following."
   ]
  },
  {
   "cell_type": "code",
   "execution_count": 8,
   "metadata": {},
   "outputs": [
    {
     "output_type": "execute_result",
     "data": {
      "text/plain": [
       "array([ 1.00000000e+00,  3.33333333e-01,  1.11111111e-01,  3.70370370e-02,\n",
       "        1.23456790e-02,  4.11522634e-03,  1.37174211e-03,  4.57247371e-04,\n",
       "        1.52415790e-04,  5.08052634e-05,  1.69350878e-05,  5.64502927e-06,\n",
       "        1.88167642e-06,  6.27225474e-07,  2.09075158e-07,  6.96917194e-08,\n",
       "        2.32305731e-08,  7.74352438e-09,  2.58117479e-09,  8.60391597e-10,\n",
       "       -1.23734368e-09,  5.34639676e-10,  7.59711850e-10, -2.88932427e-09,\n",
       "       -9.63108092e-10,  8.47420189e-10, -1.32483513e-09,  4.92481146e-10,\n",
       "        5.56595627e-10,  9.13290302e-10, -9.89960808e-10,  7.90798710e-10,\n",
       "       -1.99467661e-09, -6.64892204e-10, -4.60739691e-09, -1.53579897e-09,\n",
       "       -5.11932990e-10, -6.38906328e-10, -2.49652539e-09, -8.32175131e-10,\n",
       "        1.44936590e-09,  4.83121967e-10,  5.22290094e-10,  6.90146826e-10,\n",
       "        1.92552793e-08,  6.41842645e-09,  2.13947548e-09,  7.13158494e-10,\n",
       "       -1.13213400e-08, -3.77377999e-09, -1.25792666e-09])"
      ]
     },
     "metadata": {},
     "execution_count": 8
    }
   ],
   "source": [
    "1/3**n"
   ]
  },
  {
   "cell_type": "markdown",
   "metadata": {},
   "source": [
    "How can this be negative for large `n`?  If we compare this to `result` we see"
   ]
  },
  {
   "cell_type": "code",
   "execution_count": 9,
   "metadata": {},
   "outputs": [
    {
     "output_type": "execute_result",
     "data": {
      "text/plain": [
       "array([1.00000000e+00, 3.33333333e-01, 1.11111111e-01, 3.70370370e-02,\n",
       "       1.23456790e-02, 4.11522634e-03, 1.37174211e-03, 4.57247371e-04,\n",
       "       1.52415790e-04, 5.08052634e-05, 1.69350878e-05, 5.64502927e-06,\n",
       "       1.88167642e-06, 6.27225474e-07, 2.09075158e-07, 6.96917194e-08,\n",
       "       2.32305731e-08, 7.74352438e-09, 2.58117479e-09, 8.60391597e-10,\n",
       "       2.86797199e-10, 9.55990664e-11, 3.18663555e-11, 1.06221185e-11,\n",
       "       3.54070616e-12, 1.18023539e-12, 3.93411796e-13, 1.31137265e-13,\n",
       "       4.37124217e-14, 1.45708072e-14, 4.85693575e-15, 1.61897858e-15,\n",
       "       5.39659528e-16, 1.79886509e-16, 5.99621697e-17, 1.99873899e-17,\n",
       "       6.66246331e-18, 2.22082110e-18, 7.40273701e-19, 2.46757900e-19,\n",
       "       8.22526334e-20, 2.74175445e-20, 9.13918149e-21, 3.04639383e-21,\n",
       "       1.01546461e-21, 3.38488203e-22, 1.12829401e-22, 3.76098004e-23,\n",
       "       1.25366001e-23, 4.17886671e-24, 1.39295557e-24])"
      ]
     },
     "metadata": {},
     "execution_count": 9
    }
   ],
   "source": [
    "result"
   ]
  },
  {
   "cell_type": "markdown",
   "metadata": {},
   "source": [
    "Notice this is perfectly well behaved, even for the largest value of `n`.  What went wrong?  The problem is again the finite number of digits that can be stored.  In this case, it is the fact that an integer also only can have a finite number of digits in it, if we try to calculate \"too large\" an integer it overflows, becoming negative.  In other words, we \"accidentally\" set the sign bit.  To check this consider the following."
   ]
  },
  {
   "cell_type": "code",
   "execution_count": 10,
   "metadata": {},
   "outputs": [
    {
     "output_type": "execute_result",
     "data": {
      "text/plain": [
       "-794958903"
      ]
     },
     "metadata": {},
     "execution_count": 10
    }
   ],
   "source": [
    "3**n[-1]"
   ]
  },
  {
   "cell_type": "markdown",
   "metadata": {},
   "source": [
    "As we see, this is a negative number, hence the problem.  If we force floating point on the other hand:"
   ]
  },
  {
   "cell_type": "code",
   "execution_count": 11,
   "metadata": {},
   "outputs": [
    {
     "output_type": "execute_result",
     "data": {
      "text/plain": [
       "7.178979876918526e+23"
      ]
     },
     "metadata": {},
     "execution_count": 11
    }
   ],
   "source": [
    "3.**n[-1]"
   ]
  },
  {
   "cell_type": "markdown",
   "metadata": {},
   "source": [
    "We see it is now positive.  It is **not exact**.  We cannot store 19 digits so this value has been truncated.\n",
    "\n",
    "To further complicate things consider the following."
   ]
  },
  {
   "cell_type": "code",
   "execution_count": 12,
   "metadata": {
    "scrolled": true
   },
   "outputs": [
    {
     "output_type": "execute_result",
     "data": {
      "text/plain": [
       "717897987691852588770249"
      ]
     },
     "metadata": {},
     "execution_count": 12
    }
   ],
   "source": [
    "3**N"
   ]
  },
  {
   "cell_type": "markdown",
   "metadata": {},
   "source": [
    "This did **not overflow**.  It is positive and exact!  What is going on?  Well, there is no maximum for integers in Python 3, we can have arbitrarily large values.  So why did this not work above?  The reason is that we are using NumPy which passes off all calculations to compiled code with fixed sizes and precisions.  Since `n` is a NumPy array, we secretly forced Python to use NumPy routines for the calculation instead of its own.\n",
    "\n",
    "Why would we want to do this?  The NumPy routines are significantly faster and more powerful.  We can operate on arrays of values and by having fixed precision the algorithms can be much more efficient.  But this does show one of the many confusing things that can happen.\n",
    "\n",
    "#### Advice\n",
    "\n",
    "My advice is to always be explicit.  When you mean to use floating point numbers, force floating point numbers.  We will see this show up other times when working with NumPy arrays and algorithms.  Although most of the time things will work fine if we are not careful, when it does not work it can be very difficult to debug.  We can avoid that pain by being careful from the beginning."
   ]
  },
  {
   "cell_type": "markdown",
   "metadata": {},
   "source": [
    "## Calculation of $1/3^n$\n",
    "\n",
    "Now we are in a position to evaluate two recursion formulae for computing $1/n^3$. Mathematically, these will *exactly* calculate $1/3^n$.  We are interested in how they behave numerically.\n",
    "\n",
    "#### $p$-Recursion Formula\n",
    "\n",
    "Consider the following recursive algorithm:\n",
    "$$ p_0 = 1, \\quad p_1 = \\frac{1}{3},$$\n",
    "$$p_n = \\frac{5}{6} p_{n-1} - \\frac{1}{6} p_{n-2}, \\quad \\mbox{ for all }\\, n\\ge2.$$\n",
    "\n",
    "###### Question:\n",
    "\n",
    "Write a function that returns $p_n$ given $p_{n-1}$ and $p_{n-2}$. Use this function to populate an array full of $p_n$, from $n=0$ up to and including $n=50$.\n",
    "You will need to create an array with 51 elements, initialize the first two values in the array by hand, and use your function to compute subsequent elements. There are many ways to accomplish this, but for now you can use a `for` loop. Inspect the first several array entries to verify your function is producing expected results.\n",
    "\n",
    "*Hint: to print out the numbers 0 through 9, you can run this code:*\n",
    "```\n",
    "for i in range(0,10) :\n",
    "    print(i)\n",
    "```"
   ]
  },
  {
   "cell_type": "code",
   "execution_count": 13,
   "metadata": {},
   "outputs": [
    {
     "output_type": "stream",
     "name": "stdout",
     "text": [
      "n=0, Value= 1.0\nn=1, Value= 0.3333333333333333\nn=2, Value= 0.11111111111111113\nn=3, Value= 0.03703703703703706\nn=4, Value= 0.0123456790123457\nn=5, Value= 0.004115226337448573\nn=6, Value= 0.0013717421124828611\nn=7, Value= 0.0004572473708276221\nn=8, Value= 0.00015241579027587494\nn=9, Value= 5.080526342529212e-05\nn=10, Value= 1.6935087808430943e-05\nn=11, Value= 5.6450292694771e-06\nn=12, Value= 1.8816764231590934e-06\nn=13, Value= 6.272254743863946e-07\nn=14, Value= 2.0907515812881336e-07\nn=15, Value= 6.96917193762787e-08\nn=16, Value= 2.3230573125430026e-08\nn=17, Value= 7.743524375145238e-09\nn=18, Value= 2.5811747917160273e-09\nn=19, Value= 8.603915972391497e-10\nn=20, Value= 2.867971990799536e-10\nn=21, Value= 9.559906636010305e-11\nn=22, Value= 3.186635545342695e-11\nn=23, Value= 1.0622118484505285e-11\nn=24, Value= 3.5407061615165808e-12\nn=25, Value= 1.1802353871796034e-12\nn=26, Value= 3.9341179573023945e-13\nn=27, Value= 1.3113726524526568e-13\nn=28, Value= 4.371242174934817e-14\nn=29, Value= 1.457080725024587e-14\nn=30, Value= 4.85693575031353e-15\nn=31, Value= 1.6189785835536306e-15\nn=32, Value= 5.396595279091039e-16\nn=33, Value= 1.7988650933198153e-16\nn=34, Value= 5.996216979180065e-17\nn=35, Value= 1.9987389937836954e-17\nn=36, Value= 6.6624633162306874e-18\nn=37, Value= 2.220821107219414e-18\nn=38, Value= 7.402737033110639e-19\nn=39, Value= 2.4675790155598434e-19\nn=40, Value= 8.2252634078143e-20\nn=41, Value= 2.741754480578845e-20\nn=42, Value= 9.139181658466541e-21\nn=43, Value= 3.0463939144240436e-21\nn=44, Value= 1.0154646522756131e-21\nn=45, Value= 3.3848822449233707e-22\nn=46, Value= 1.1282941169767872e-22\nn=47, Value= 3.760980566600943e-23\nn=48, Value= 1.2536602772061413e-23\nn=49, Value= 4.17886803238294e-24\nn=50, Value= 1.3929562316422151e-24\nVerified with calculator that 1/3^50 is 1.3929555691×10−24\n"
     ]
    }
   ],
   "source": [
    "# YOUR CODE HERE\n",
    "def precursiveVer(pn1,pn2):\n",
    "    pn = 5./6.*pn1-1./6.*pn2\n",
    "    return pn\n",
    "series = np.zeros(51)\n",
    "series[0]=1\n",
    "series[1]=1./3.\n",
    "for i in range(2,51):\n",
    "    series[i]=precursiveVer(series[i-1],series[i-2])\n",
    "for i in range(0,51):\n",
    "    print(\"n=%i, Value=\" % (i),series[i])\n",
    "print(\"Verified with calculator that 1/3^50 is 1.3929555691×10−24\")"
   ]
  },
  {
   "cell_type": "markdown",
   "metadata": {},
   "source": [
    "#### $q$-Recursion Formula\n",
    "\n",
    "Now consider the following recursive algorithm:\n",
    "$$ q_0 = 1, \\quad q_1 = \\frac{1}{3},$$\n",
    "$$q_n = \\frac{5}{3} q_{n-1} - \\frac{4}{9} q_{n-2}, \\quad \\mbox{ for all }\\, n\\ge2.$$\n",
    "\n",
    "###### Question:\n",
    "\n",
    "As above, write a function that returns $q_n$, but now using the above recursion formula. Again, populate an array full of $q_n$, from $n=0$ up to and including $n=50$."
   ]
  },
  {
   "cell_type": "code",
   "execution_count": 14,
   "metadata": {},
   "outputs": [
    {
     "output_type": "stream",
     "name": "stdout",
     "text": [
      "n=0, Value= 1.0\nn=1, Value= 0.3333333333333333\nn=2, Value= 0.11111111111111116\nn=3, Value= 0.037037037037037146\nn=4, Value= 0.012345679012345845\nn=5, Value= 0.004115226337448791\nn=6, Value= 0.0013717421124831656\nn=7, Value= 0.00045724737082803585\nn=8, Value= 0.0001524157902764307\nn=9, Value= 5.0805263426035284e-05\nn=10, Value= 1.6935087809422954e-05\nn=11, Value= 5.645029270800354e-06\nn=12, Value= 1.8816764249237226e-06\nn=13, Value= 6.272254767393808e-07\nn=14, Value= 2.0907516126620248e-07\nn=15, Value= 6.969172355950162e-08\nn=16, Value= 2.3230578703079376e-08\nn=17, Value= 7.743531812020469e-09\nn=18, Value= 2.5811847075543934e-09\nn=19, Value= 8.604048183593369e-10\nn=20, Value= 2.8681482724138675e-10\nn=21, Value= 9.562257057593934e-11\nn=22, Value= 3.189769440817146e-11\nn=23, Value= 1.0663903757646068e-11\nn=24, Value= 3.5964198591116906e-12\nn=25, Value= 1.2545203173434539e-12\nn=26, Value= 4.924583693005608e-13\nn=27, Value= 2.6319936334828853e-13\nn=28, Value= 2.197952192246761e-13\nn=29, Value= 2.4934787055299865e-13\nn=30, Value= 3.1789302015514176e-13\nn=31, Value= 4.1900042445723686e-13\nn=32, Value= 5.570482540264429e-13\nn=33, Value= 7.421913458408552e-13\nn=34, Value= 9.89408574611895e-13\nn=35, Value= 1.319151470646112e-12\nn=36, Value= 1.7588486401382331e-12\nn=37, Value= 2.345124857721006e-12\nn=38, Value= 3.1268309228069068e-12\nn=39, Value= 4.169107156802176e-12\nn=40, Value= 5.558809295645002e-12\nn=41, Value= 7.411745645274036e-12\nn=42, Value= 9.882327499614503e-12\nn=43, Value= 1.3176436657013493e-11\nn=44, Value= 1.7568582206304932e-11\nn=45, Value= 2.3424776274057783e-11\nn=46, Value= 3.1233035031738564e-11\nn=47, Value= 4.164404670887193e-11\nn=48, Value= 5.5525395611791633e-11\nn=49, Value= 7.403386081570964e-11\nn=50, Value= 9.871181442094202e-11\nVerified with calculator that 1/3^50 is 1.3929555691×10−24\n"
     ]
    }
   ],
   "source": [
    "# YOUR CODE HERE\n",
    "def qrecursiveVer(qn1,qn2):\n",
    "    qn = 5./3.*qn1-4./9.*qn2\n",
    "    return qn\n",
    "qseries = np.zeros(51)\n",
    "qseries[0]=1\n",
    "qseries[1]=1./3.\n",
    "for i in range(2,51):\n",
    "    qseries[i]=qrecursiveVer(qseries[i-1],qseries[i-2])\n",
    "for i in range(0,51):\n",
    "    print(\"n=%i, Value=\" % (i),qseries[i])\n",
    "print(\"Verified with calculator that 1/3^50 is 1.3929555691×10−24\")"
   ]
  },
  {
   "cell_type": "markdown",
   "metadata": {},
   "source": [
    "## Tests\n",
    "\n",
    "###### Question:\n",
    "\n",
    "We also know what values should be returned, so we can compare them to the \"expected\" values from the `result` array computed earlier.\n",
    "Compute the fractional difference between the arrays you generated, and the `result` array. Print out the entirety of the results you get."
   ]
  },
  {
   "cell_type": "code",
   "execution_count": 15,
   "metadata": {},
   "outputs": [
    {
     "output_type": "stream",
     "name": "stdout",
     "text": [
      "[0.00000000e+00 0.00000000e+00 4.99600361e-16 2.99760217e-15\n 1.34892097e-14 5.60645280e-14 2.27788491e-13 9.14434056e-13\n 3.66182646e-12 1.46525520e-11 5.86160766e-11 2.34470258e-10\n 9.37888048e-10 3.75155973e-09 1.50062472e-08 6.00249977e-08\n 2.40100000e-07 9.60400009e-07 3.84160005e-06 1.53664002e-05\n 6.14656008e-05 2.45862403e-04 9.83449612e-04 3.93379845e-03\n 1.57351938e-02 6.29407752e-02 2.51763101e-01 1.00705240e+00\n 4.02820961e+00 1.61128385e+01 6.44513538e+01 2.57805415e+02\n 1.03122166e+03 4.12488664e+03 1.64995466e+04 6.59981863e+04\n 2.63992745e+05 1.05597098e+06 4.22388392e+06 1.68955357e+07\n 6.75821428e+07 2.70328571e+08 1.08131428e+09 4.32525714e+09\n 1.73010285e+10 6.92041142e+10 2.76816457e+11 1.10726583e+12\n 4.42906331e+12 1.77162532e+13 7.08650129e+13]\n[0.00000000e+00 0.00000000e+00 2.49800181e-16 7.49400542e-16\n 1.68615122e-15 3.16153353e-15 5.84883704e-15 9.60315811e-15\n 1.54717547e-14 2.48081585e-14 3.88127640e-14 5.98696889e-14\n 9.17176624e-14 1.39770965e-13 2.12315135e-13 3.21131389e-13\n 4.84403247e-13 7.29168604e-13 1.09647687e-12 1.64735916e-12\n 2.47374268e-12 3.71345315e-12 5.57322166e-12 8.36317861e-12\n 1.25486464e-11 1.88269051e-11 2.82444642e-11 4.23711238e-11\n 6.35614499e-11 9.53471558e-11 1.43026093e-10 2.14544866e-10\n 3.21823145e-10 4.82740611e-10 7.24117289e-10 1.08618241e-09\n 1.62928043e-09 2.44392707e-09 3.66589750e-09 5.49885366e-09\n 8.24828810e-09 1.23724398e-08 1.85586677e-08 2.78380094e-08\n 4.17570226e-08 6.26355425e-08 9.39533225e-08 1.40929993e-07\n 2.11394999e-07 3.17092508e-07 4.75638772e-07]\n"
     ]
    }
   ],
   "source": [
    "# YOUR CODE HERE\n",
    "qerror = (qseries-result)/result\n",
    "print(qerror)\n",
    "perror = (series-result)/result\n",
    "print(perror)"
   ]
  },
  {
   "cell_type": "markdown",
   "metadata": {},
   "source": [
    "Notice that the errors are not zero, so the values are not exact, but we do not expect them to be.  We expect them to be \"close\", for some definition of close.  In both cases the errors are rather small at first, but the errors for the $q$ recursion seem to be growing faster than for the $p$ recursion.  In fact, for the $q$ recursion the error becomes huge!  The recursion totally fails!  This despite the fact that both algorithms are mathematically exact."
   ]
  },
  {
   "cell_type": "markdown",
   "metadata": {},
   "source": [
    "## Plots of Errors\n",
    "\n",
    "Looking at lists of numbers is fine, but a plot is typically easier to read. Recall homework 1, and produce a plot of the fractional error as a function of $n$. You should do several things for this plot:\n",
    "\n",
    "1. Make the y-axis log scaled. (Hint: use `semilogy`.)\n",
    "2. Add a horizontal line indicating where the fractional error is equal to 1.\n",
    "3. Add a legend indicating which data are from which recursion algorithm.\n",
    "4. Make sure to label your axes, and title your figure!"
   ]
  },
  {
   "cell_type": "code",
   "execution_count": 18,
   "metadata": {},
   "outputs": [
    {
     "output_type": "display_data",
     "data": {
      "text/plain": "<Figure size 432x288 with 1 Axes>",
      "image/svg+xml": "<?xml version=\"1.0\" encoding=\"utf-8\" standalone=\"no\"?>\r\n<!DOCTYPE svg PUBLIC \"-//W3C//DTD SVG 1.1//EN\"\r\n  \"http://www.w3.org/Graphics/SVG/1.1/DTD/svg11.dtd\">\r\n<!-- Created with matplotlib (https://matplotlib.org/) -->\r\n<svg height=\"277.314375pt\" version=\"1.1\" viewBox=\"0 0 413.625625 277.314375\" width=\"413.625625pt\" xmlns=\"http://www.w3.org/2000/svg\" xmlns:xlink=\"http://www.w3.org/1999/xlink\">\r\n <metadata>\r\n  <rdf:RDF xmlns:cc=\"http://creativecommons.org/ns#\" xmlns:dc=\"http://purl.org/dc/elements/1.1/\" xmlns:rdf=\"http://www.w3.org/1999/02/22-rdf-syntax-ns#\">\r\n   <cc:Work>\r\n    <dc:type rdf:resource=\"http://purl.org/dc/dcmitype/StillImage\"/>\r\n    <dc:date>2021-02-01T19:41:00.677588</dc:date>\r\n    <dc:format>image/svg+xml</dc:format>\r\n    <dc:creator>\r\n     <cc:Agent>\r\n      <dc:title>Matplotlib v3.3.2, https://matplotlib.org/</dc:title>\r\n     </cc:Agent>\r\n    </dc:creator>\r\n   </cc:Work>\r\n  </rdf:RDF>\r\n </metadata>\r\n <defs>\r\n  <style type=\"text/css\">*{stroke-linecap:butt;stroke-linejoin:round;}</style>\r\n </defs>\r\n <g id=\"figure_1\">\r\n  <g id=\"patch_1\">\r\n   <path d=\"M 0 277.314375 \r\nL 413.625625 277.314375 \r\nL 413.625625 0 \r\nL 0 0 \r\nz\r\n\" style=\"fill:none;\"/>\r\n  </g>\r\n  <g id=\"axes_1\">\r\n   <g id=\"patch_2\">\r\n    <path d=\"M 55.778125 239.758125 \r\nL 390.578125 239.758125 \r\nL 390.578125 22.318125 \r\nL 55.778125 22.318125 \r\nz\r\n\" style=\"fill:#ffffff;\"/>\r\n   </g>\r\n   <g id=\"matplotlib.axis_1\">\r\n    <g id=\"xtick_1\">\r\n     <g id=\"line2d_1\">\r\n      <path clip-path=\"url(#pd29d68144e)\" d=\"M 70.996307 239.758125 \r\nL 70.996307 22.318125 \r\n\" style=\"fill:none;stroke:#b0b0b0;stroke-linecap:square;stroke-width:0.8;\"/>\r\n     </g>\r\n     <g id=\"line2d_2\">\r\n      <defs>\r\n       <path d=\"M 0 0 \r\nL 0 3.5 \r\n\" id=\"m8ee7071d7c\" style=\"stroke:#000000;stroke-width:0.8;\"/>\r\n      </defs>\r\n      <g>\r\n       <use style=\"stroke:#000000;stroke-width:0.8;\" x=\"70.996307\" xlink:href=\"#m8ee7071d7c\" y=\"239.758125\"/>\r\n      </g>\r\n     </g>\r\n     <g id=\"text_1\">\r\n      <!-- 0 -->\r\n      <g transform=\"translate(67.815057 254.356562)scale(0.1 -0.1)\">\r\n       <defs>\r\n        <path d=\"M 31.78125 66.40625 \r\nQ 24.171875 66.40625 20.328125 58.90625 \r\nQ 16.5 51.421875 16.5 36.375 \r\nQ 16.5 21.390625 20.328125 13.890625 \r\nQ 24.171875 6.390625 31.78125 6.390625 \r\nQ 39.453125 6.390625 43.28125 13.890625 \r\nQ 47.125 21.390625 47.125 36.375 \r\nQ 47.125 51.421875 43.28125 58.90625 \r\nQ 39.453125 66.40625 31.78125 66.40625 \r\nz\r\nM 31.78125 74.21875 \r\nQ 44.046875 74.21875 50.515625 64.515625 \r\nQ 56.984375 54.828125 56.984375 36.375 \r\nQ 56.984375 17.96875 50.515625 8.265625 \r\nQ 44.046875 -1.421875 31.78125 -1.421875 \r\nQ 19.53125 -1.421875 13.0625 8.265625 \r\nQ 6.59375 17.96875 6.59375 36.375 \r\nQ 6.59375 54.828125 13.0625 64.515625 \r\nQ 19.53125 74.21875 31.78125 74.21875 \r\nz\r\n\" id=\"DejaVuSans-48\"/>\r\n       </defs>\r\n       <use xlink:href=\"#DejaVuSans-48\"/>\r\n      </g>\r\n     </g>\r\n    </g>\r\n    <g id=\"xtick_2\">\r\n     <g id=\"line2d_3\">\r\n      <path clip-path=\"url(#pd29d68144e)\" d=\"M 131.869034 239.758125 \r\nL 131.869034 22.318125 \r\n\" style=\"fill:none;stroke:#b0b0b0;stroke-linecap:square;stroke-width:0.8;\"/>\r\n     </g>\r\n     <g id=\"line2d_4\">\r\n      <g>\r\n       <use style=\"stroke:#000000;stroke-width:0.8;\" x=\"131.869034\" xlink:href=\"#m8ee7071d7c\" y=\"239.758125\"/>\r\n      </g>\r\n     </g>\r\n     <g id=\"text_2\">\r\n      <!-- 10 -->\r\n      <g transform=\"translate(125.506534 254.356562)scale(0.1 -0.1)\">\r\n       <defs>\r\n        <path d=\"M 12.40625 8.296875 \r\nL 28.515625 8.296875 \r\nL 28.515625 63.921875 \r\nL 10.984375 60.40625 \r\nL 10.984375 69.390625 \r\nL 28.421875 72.90625 \r\nL 38.28125 72.90625 \r\nL 38.28125 8.296875 \r\nL 54.390625 8.296875 \r\nL 54.390625 0 \r\nL 12.40625 0 \r\nz\r\n\" id=\"DejaVuSans-49\"/>\r\n       </defs>\r\n       <use xlink:href=\"#DejaVuSans-49\"/>\r\n       <use x=\"63.623047\" xlink:href=\"#DejaVuSans-48\"/>\r\n      </g>\r\n     </g>\r\n    </g>\r\n    <g id=\"xtick_3\">\r\n     <g id=\"line2d_5\">\r\n      <path clip-path=\"url(#pd29d68144e)\" d=\"M 192.741761 239.758125 \r\nL 192.741761 22.318125 \r\n\" style=\"fill:none;stroke:#b0b0b0;stroke-linecap:square;stroke-width:0.8;\"/>\r\n     </g>\r\n     <g id=\"line2d_6\">\r\n      <g>\r\n       <use style=\"stroke:#000000;stroke-width:0.8;\" x=\"192.741761\" xlink:href=\"#m8ee7071d7c\" y=\"239.758125\"/>\r\n      </g>\r\n     </g>\r\n     <g id=\"text_3\">\r\n      <!-- 20 -->\r\n      <g transform=\"translate(186.379261 254.356562)scale(0.1 -0.1)\">\r\n       <defs>\r\n        <path d=\"M 19.1875 8.296875 \r\nL 53.609375 8.296875 \r\nL 53.609375 0 \r\nL 7.328125 0 \r\nL 7.328125 8.296875 \r\nQ 12.9375 14.109375 22.625 23.890625 \r\nQ 32.328125 33.6875 34.8125 36.53125 \r\nQ 39.546875 41.84375 41.421875 45.53125 \r\nQ 43.3125 49.21875 43.3125 52.78125 \r\nQ 43.3125 58.59375 39.234375 62.25 \r\nQ 35.15625 65.921875 28.609375 65.921875 \r\nQ 23.96875 65.921875 18.8125 64.3125 \r\nQ 13.671875 62.703125 7.8125 59.421875 \r\nL 7.8125 69.390625 \r\nQ 13.765625 71.78125 18.9375 73 \r\nQ 24.125 74.21875 28.421875 74.21875 \r\nQ 39.75 74.21875 46.484375 68.546875 \r\nQ 53.21875 62.890625 53.21875 53.421875 \r\nQ 53.21875 48.921875 51.53125 44.890625 \r\nQ 49.859375 40.875 45.40625 35.40625 \r\nQ 44.1875 33.984375 37.640625 27.21875 \r\nQ 31.109375 20.453125 19.1875 8.296875 \r\nz\r\n\" id=\"DejaVuSans-50\"/>\r\n       </defs>\r\n       <use xlink:href=\"#DejaVuSans-50\"/>\r\n       <use x=\"63.623047\" xlink:href=\"#DejaVuSans-48\"/>\r\n      </g>\r\n     </g>\r\n    </g>\r\n    <g id=\"xtick_4\">\r\n     <g id=\"line2d_7\">\r\n      <path clip-path=\"url(#pd29d68144e)\" d=\"M 253.614489 239.758125 \r\nL 253.614489 22.318125 \r\n\" style=\"fill:none;stroke:#b0b0b0;stroke-linecap:square;stroke-width:0.8;\"/>\r\n     </g>\r\n     <g id=\"line2d_8\">\r\n      <g>\r\n       <use style=\"stroke:#000000;stroke-width:0.8;\" x=\"253.614489\" xlink:href=\"#m8ee7071d7c\" y=\"239.758125\"/>\r\n      </g>\r\n     </g>\r\n     <g id=\"text_4\">\r\n      <!-- 30 -->\r\n      <g transform=\"translate(247.251989 254.356562)scale(0.1 -0.1)\">\r\n       <defs>\r\n        <path d=\"M 40.578125 39.3125 \r\nQ 47.65625 37.796875 51.625 33 \r\nQ 55.609375 28.21875 55.609375 21.1875 \r\nQ 55.609375 10.40625 48.1875 4.484375 \r\nQ 40.765625 -1.421875 27.09375 -1.421875 \r\nQ 22.515625 -1.421875 17.65625 -0.515625 \r\nQ 12.796875 0.390625 7.625 2.203125 \r\nL 7.625 11.71875 \r\nQ 11.71875 9.328125 16.59375 8.109375 \r\nQ 21.484375 6.890625 26.8125 6.890625 \r\nQ 36.078125 6.890625 40.9375 10.546875 \r\nQ 45.796875 14.203125 45.796875 21.1875 \r\nQ 45.796875 27.640625 41.28125 31.265625 \r\nQ 36.765625 34.90625 28.71875 34.90625 \r\nL 20.21875 34.90625 \r\nL 20.21875 43.015625 \r\nL 29.109375 43.015625 \r\nQ 36.375 43.015625 40.234375 45.921875 \r\nQ 44.09375 48.828125 44.09375 54.296875 \r\nQ 44.09375 59.90625 40.109375 62.90625 \r\nQ 36.140625 65.921875 28.71875 65.921875 \r\nQ 24.65625 65.921875 20.015625 65.03125 \r\nQ 15.375 64.15625 9.8125 62.3125 \r\nL 9.8125 71.09375 \r\nQ 15.4375 72.65625 20.34375 73.4375 \r\nQ 25.25 74.21875 29.59375 74.21875 \r\nQ 40.828125 74.21875 47.359375 69.109375 \r\nQ 53.90625 64.015625 53.90625 55.328125 \r\nQ 53.90625 49.265625 50.4375 45.09375 \r\nQ 46.96875 40.921875 40.578125 39.3125 \r\nz\r\n\" id=\"DejaVuSans-51\"/>\r\n       </defs>\r\n       <use xlink:href=\"#DejaVuSans-51\"/>\r\n       <use x=\"63.623047\" xlink:href=\"#DejaVuSans-48\"/>\r\n      </g>\r\n     </g>\r\n    </g>\r\n    <g id=\"xtick_5\">\r\n     <g id=\"line2d_9\">\r\n      <path clip-path=\"url(#pd29d68144e)\" d=\"M 314.487216 239.758125 \r\nL 314.487216 22.318125 \r\n\" style=\"fill:none;stroke:#b0b0b0;stroke-linecap:square;stroke-width:0.8;\"/>\r\n     </g>\r\n     <g id=\"line2d_10\">\r\n      <g>\r\n       <use style=\"stroke:#000000;stroke-width:0.8;\" x=\"314.487216\" xlink:href=\"#m8ee7071d7c\" y=\"239.758125\"/>\r\n      </g>\r\n     </g>\r\n     <g id=\"text_5\">\r\n      <!-- 40 -->\r\n      <g transform=\"translate(308.124716 254.356562)scale(0.1 -0.1)\">\r\n       <defs>\r\n        <path d=\"M 37.796875 64.3125 \r\nL 12.890625 25.390625 \r\nL 37.796875 25.390625 \r\nz\r\nM 35.203125 72.90625 \r\nL 47.609375 72.90625 \r\nL 47.609375 25.390625 \r\nL 58.015625 25.390625 \r\nL 58.015625 17.1875 \r\nL 47.609375 17.1875 \r\nL 47.609375 0 \r\nL 37.796875 0 \r\nL 37.796875 17.1875 \r\nL 4.890625 17.1875 \r\nL 4.890625 26.703125 \r\nz\r\n\" id=\"DejaVuSans-52\"/>\r\n       </defs>\r\n       <use xlink:href=\"#DejaVuSans-52\"/>\r\n       <use x=\"63.623047\" xlink:href=\"#DejaVuSans-48\"/>\r\n      </g>\r\n     </g>\r\n    </g>\r\n    <g id=\"xtick_6\">\r\n     <g id=\"line2d_11\">\r\n      <path clip-path=\"url(#pd29d68144e)\" d=\"M 375.359943 239.758125 \r\nL 375.359943 22.318125 \r\n\" style=\"fill:none;stroke:#b0b0b0;stroke-linecap:square;stroke-width:0.8;\"/>\r\n     </g>\r\n     <g id=\"line2d_12\">\r\n      <g>\r\n       <use style=\"stroke:#000000;stroke-width:0.8;\" x=\"375.359943\" xlink:href=\"#m8ee7071d7c\" y=\"239.758125\"/>\r\n      </g>\r\n     </g>\r\n     <g id=\"text_6\">\r\n      <!-- 50 -->\r\n      <g transform=\"translate(368.997443 254.356562)scale(0.1 -0.1)\">\r\n       <defs>\r\n        <path d=\"M 10.796875 72.90625 \r\nL 49.515625 72.90625 \r\nL 49.515625 64.59375 \r\nL 19.828125 64.59375 \r\nL 19.828125 46.734375 \r\nQ 21.96875 47.46875 24.109375 47.828125 \r\nQ 26.265625 48.1875 28.421875 48.1875 \r\nQ 40.625 48.1875 47.75 41.5 \r\nQ 54.890625 34.8125 54.890625 23.390625 \r\nQ 54.890625 11.625 47.5625 5.09375 \r\nQ 40.234375 -1.421875 26.90625 -1.421875 \r\nQ 22.3125 -1.421875 17.546875 -0.640625 \r\nQ 12.796875 0.140625 7.71875 1.703125 \r\nL 7.71875 11.625 \r\nQ 12.109375 9.234375 16.796875 8.0625 \r\nQ 21.484375 6.890625 26.703125 6.890625 \r\nQ 35.15625 6.890625 40.078125 11.328125 \r\nQ 45.015625 15.765625 45.015625 23.390625 \r\nQ 45.015625 31 40.078125 35.4375 \r\nQ 35.15625 39.890625 26.703125 39.890625 \r\nQ 22.75 39.890625 18.8125 39.015625 \r\nQ 14.890625 38.140625 10.796875 36.28125 \r\nz\r\n\" id=\"DejaVuSans-53\"/>\r\n       </defs>\r\n       <use xlink:href=\"#DejaVuSans-53\"/>\r\n       <use x=\"63.623047\" xlink:href=\"#DejaVuSans-48\"/>\r\n      </g>\r\n     </g>\r\n    </g>\r\n    <g id=\"xtick_7\">\r\n     <g id=\"line2d_13\">\r\n      <defs>\r\n       <path d=\"M 0 0 \r\nL 0 2 \r\n\" id=\"mdcde576ec0\" style=\"stroke:#000000;stroke-width:0.6;\"/>\r\n      </defs>\r\n      <g>\r\n       <use style=\"stroke:#000000;stroke-width:0.6;\" x=\"58.821761\" xlink:href=\"#mdcde576ec0\" y=\"239.758125\"/>\r\n      </g>\r\n     </g>\r\n    </g>\r\n    <g id=\"xtick_8\">\r\n     <g id=\"line2d_14\">\r\n      <g>\r\n       <use style=\"stroke:#000000;stroke-width:0.6;\" x=\"83.170852\" xlink:href=\"#mdcde576ec0\" y=\"239.758125\"/>\r\n      </g>\r\n     </g>\r\n    </g>\r\n    <g id=\"xtick_9\">\r\n     <g id=\"line2d_15\">\r\n      <g>\r\n       <use style=\"stroke:#000000;stroke-width:0.6;\" x=\"95.345398\" xlink:href=\"#mdcde576ec0\" y=\"239.758125\"/>\r\n      </g>\r\n     </g>\r\n    </g>\r\n    <g id=\"xtick_10\">\r\n     <g id=\"line2d_16\">\r\n      <g>\r\n       <use style=\"stroke:#000000;stroke-width:0.6;\" x=\"107.519943\" xlink:href=\"#mdcde576ec0\" y=\"239.758125\"/>\r\n      </g>\r\n     </g>\r\n    </g>\r\n    <g id=\"xtick_11\">\r\n     <g id=\"line2d_17\">\r\n      <g>\r\n       <use style=\"stroke:#000000;stroke-width:0.6;\" x=\"119.694489\" xlink:href=\"#mdcde576ec0\" y=\"239.758125\"/>\r\n      </g>\r\n     </g>\r\n    </g>\r\n    <g id=\"xtick_12\">\r\n     <g id=\"line2d_18\">\r\n      <g>\r\n       <use style=\"stroke:#000000;stroke-width:0.6;\" x=\"144.04358\" xlink:href=\"#mdcde576ec0\" y=\"239.758125\"/>\r\n      </g>\r\n     </g>\r\n    </g>\r\n    <g id=\"xtick_13\">\r\n     <g id=\"line2d_19\">\r\n      <g>\r\n       <use style=\"stroke:#000000;stroke-width:0.6;\" x=\"156.218125\" xlink:href=\"#mdcde576ec0\" y=\"239.758125\"/>\r\n      </g>\r\n     </g>\r\n    </g>\r\n    <g id=\"xtick_14\">\r\n     <g id=\"line2d_20\">\r\n      <g>\r\n       <use style=\"stroke:#000000;stroke-width:0.6;\" x=\"168.39267\" xlink:href=\"#mdcde576ec0\" y=\"239.758125\"/>\r\n      </g>\r\n     </g>\r\n    </g>\r\n    <g id=\"xtick_15\">\r\n     <g id=\"line2d_21\">\r\n      <g>\r\n       <use style=\"stroke:#000000;stroke-width:0.6;\" x=\"180.567216\" xlink:href=\"#mdcde576ec0\" y=\"239.758125\"/>\r\n      </g>\r\n     </g>\r\n    </g>\r\n    <g id=\"xtick_16\">\r\n     <g id=\"line2d_22\">\r\n      <g>\r\n       <use style=\"stroke:#000000;stroke-width:0.6;\" x=\"204.916307\" xlink:href=\"#mdcde576ec0\" y=\"239.758125\"/>\r\n      </g>\r\n     </g>\r\n    </g>\r\n    <g id=\"xtick_17\">\r\n     <g id=\"line2d_23\">\r\n      <g>\r\n       <use style=\"stroke:#000000;stroke-width:0.6;\" x=\"217.090852\" xlink:href=\"#mdcde576ec0\" y=\"239.758125\"/>\r\n      </g>\r\n     </g>\r\n    </g>\r\n    <g id=\"xtick_18\">\r\n     <g id=\"line2d_24\">\r\n      <g>\r\n       <use style=\"stroke:#000000;stroke-width:0.6;\" x=\"229.265398\" xlink:href=\"#mdcde576ec0\" y=\"239.758125\"/>\r\n      </g>\r\n     </g>\r\n    </g>\r\n    <g id=\"xtick_19\">\r\n     <g id=\"line2d_25\">\r\n      <g>\r\n       <use style=\"stroke:#000000;stroke-width:0.6;\" x=\"241.439943\" xlink:href=\"#mdcde576ec0\" y=\"239.758125\"/>\r\n      </g>\r\n     </g>\r\n    </g>\r\n    <g id=\"xtick_20\">\r\n     <g id=\"line2d_26\">\r\n      <g>\r\n       <use style=\"stroke:#000000;stroke-width:0.6;\" x=\"265.789034\" xlink:href=\"#mdcde576ec0\" y=\"239.758125\"/>\r\n      </g>\r\n     </g>\r\n    </g>\r\n    <g id=\"xtick_21\">\r\n     <g id=\"line2d_27\">\r\n      <g>\r\n       <use style=\"stroke:#000000;stroke-width:0.6;\" x=\"277.96358\" xlink:href=\"#mdcde576ec0\" y=\"239.758125\"/>\r\n      </g>\r\n     </g>\r\n    </g>\r\n    <g id=\"xtick_22\">\r\n     <g id=\"line2d_28\">\r\n      <g>\r\n       <use style=\"stroke:#000000;stroke-width:0.6;\" x=\"290.138125\" xlink:href=\"#mdcde576ec0\" y=\"239.758125\"/>\r\n      </g>\r\n     </g>\r\n    </g>\r\n    <g id=\"xtick_23\">\r\n     <g id=\"line2d_29\">\r\n      <g>\r\n       <use style=\"stroke:#000000;stroke-width:0.6;\" x=\"302.31267\" xlink:href=\"#mdcde576ec0\" y=\"239.758125\"/>\r\n      </g>\r\n     </g>\r\n    </g>\r\n    <g id=\"xtick_24\">\r\n     <g id=\"line2d_30\">\r\n      <g>\r\n       <use style=\"stroke:#000000;stroke-width:0.6;\" x=\"326.661761\" xlink:href=\"#mdcde576ec0\" y=\"239.758125\"/>\r\n      </g>\r\n     </g>\r\n    </g>\r\n    <g id=\"xtick_25\">\r\n     <g id=\"line2d_31\">\r\n      <g>\r\n       <use style=\"stroke:#000000;stroke-width:0.6;\" x=\"338.836307\" xlink:href=\"#mdcde576ec0\" y=\"239.758125\"/>\r\n      </g>\r\n     </g>\r\n    </g>\r\n    <g id=\"xtick_26\">\r\n     <g id=\"line2d_32\">\r\n      <g>\r\n       <use style=\"stroke:#000000;stroke-width:0.6;\" x=\"351.010852\" xlink:href=\"#mdcde576ec0\" y=\"239.758125\"/>\r\n      </g>\r\n     </g>\r\n    </g>\r\n    <g id=\"xtick_27\">\r\n     <g id=\"line2d_33\">\r\n      <g>\r\n       <use style=\"stroke:#000000;stroke-width:0.6;\" x=\"363.185398\" xlink:href=\"#mdcde576ec0\" y=\"239.758125\"/>\r\n      </g>\r\n     </g>\r\n    </g>\r\n    <g id=\"xtick_28\">\r\n     <g id=\"line2d_34\">\r\n      <g>\r\n       <use style=\"stroke:#000000;stroke-width:0.6;\" x=\"387.534489\" xlink:href=\"#mdcde576ec0\" y=\"239.758125\"/>\r\n      </g>\r\n     </g>\r\n    </g>\r\n    <g id=\"text_7\">\r\n     <!-- Exponent index n -->\r\n     <g transform=\"translate(179.424219 268.034687)scale(0.1 -0.1)\">\r\n      <defs>\r\n       <path d=\"M 9.8125 72.90625 \r\nL 55.90625 72.90625 \r\nL 55.90625 64.59375 \r\nL 19.671875 64.59375 \r\nL 19.671875 43.015625 \r\nL 54.390625 43.015625 \r\nL 54.390625 34.71875 \r\nL 19.671875 34.71875 \r\nL 19.671875 8.296875 \r\nL 56.78125 8.296875 \r\nL 56.78125 0 \r\nL 9.8125 0 \r\nz\r\n\" id=\"DejaVuSans-69\"/>\r\n       <path d=\"M 54.890625 54.6875 \r\nL 35.109375 28.078125 \r\nL 55.90625 0 \r\nL 45.3125 0 \r\nL 29.390625 21.484375 \r\nL 13.484375 0 \r\nL 2.875 0 \r\nL 24.125 28.609375 \r\nL 4.6875 54.6875 \r\nL 15.28125 54.6875 \r\nL 29.78125 35.203125 \r\nL 44.28125 54.6875 \r\nz\r\n\" id=\"DejaVuSans-120\"/>\r\n       <path d=\"M 18.109375 8.203125 \r\nL 18.109375 -20.796875 \r\nL 9.078125 -20.796875 \r\nL 9.078125 54.6875 \r\nL 18.109375 54.6875 \r\nL 18.109375 46.390625 \r\nQ 20.953125 51.265625 25.265625 53.625 \r\nQ 29.59375 56 35.59375 56 \r\nQ 45.5625 56 51.78125 48.09375 \r\nQ 58.015625 40.1875 58.015625 27.296875 \r\nQ 58.015625 14.40625 51.78125 6.484375 \r\nQ 45.5625 -1.421875 35.59375 -1.421875 \r\nQ 29.59375 -1.421875 25.265625 0.953125 \r\nQ 20.953125 3.328125 18.109375 8.203125 \r\nz\r\nM 48.6875 27.296875 \r\nQ 48.6875 37.203125 44.609375 42.84375 \r\nQ 40.53125 48.484375 33.40625 48.484375 \r\nQ 26.265625 48.484375 22.1875 42.84375 \r\nQ 18.109375 37.203125 18.109375 27.296875 \r\nQ 18.109375 17.390625 22.1875 11.75 \r\nQ 26.265625 6.109375 33.40625 6.109375 \r\nQ 40.53125 6.109375 44.609375 11.75 \r\nQ 48.6875 17.390625 48.6875 27.296875 \r\nz\r\n\" id=\"DejaVuSans-112\"/>\r\n       <path d=\"M 30.609375 48.390625 \r\nQ 23.390625 48.390625 19.1875 42.75 \r\nQ 14.984375 37.109375 14.984375 27.296875 \r\nQ 14.984375 17.484375 19.15625 11.84375 \r\nQ 23.34375 6.203125 30.609375 6.203125 \r\nQ 37.796875 6.203125 41.984375 11.859375 \r\nQ 46.1875 17.53125 46.1875 27.296875 \r\nQ 46.1875 37.015625 41.984375 42.703125 \r\nQ 37.796875 48.390625 30.609375 48.390625 \r\nz\r\nM 30.609375 56 \r\nQ 42.328125 56 49.015625 48.375 \r\nQ 55.71875 40.765625 55.71875 27.296875 \r\nQ 55.71875 13.875 49.015625 6.21875 \r\nQ 42.328125 -1.421875 30.609375 -1.421875 \r\nQ 18.84375 -1.421875 12.171875 6.21875 \r\nQ 5.515625 13.875 5.515625 27.296875 \r\nQ 5.515625 40.765625 12.171875 48.375 \r\nQ 18.84375 56 30.609375 56 \r\nz\r\n\" id=\"DejaVuSans-111\"/>\r\n       <path d=\"M 54.890625 33.015625 \r\nL 54.890625 0 \r\nL 45.90625 0 \r\nL 45.90625 32.71875 \r\nQ 45.90625 40.484375 42.875 44.328125 \r\nQ 39.84375 48.1875 33.796875 48.1875 \r\nQ 26.515625 48.1875 22.3125 43.546875 \r\nQ 18.109375 38.921875 18.109375 30.90625 \r\nL 18.109375 0 \r\nL 9.078125 0 \r\nL 9.078125 54.6875 \r\nL 18.109375 54.6875 \r\nL 18.109375 46.1875 \r\nQ 21.34375 51.125 25.703125 53.5625 \r\nQ 30.078125 56 35.796875 56 \r\nQ 45.21875 56 50.046875 50.171875 \r\nQ 54.890625 44.34375 54.890625 33.015625 \r\nz\r\n\" id=\"DejaVuSans-110\"/>\r\n       <path d=\"M 56.203125 29.59375 \r\nL 56.203125 25.203125 \r\nL 14.890625 25.203125 \r\nQ 15.484375 15.921875 20.484375 11.0625 \r\nQ 25.484375 6.203125 34.421875 6.203125 \r\nQ 39.59375 6.203125 44.453125 7.46875 \r\nQ 49.3125 8.734375 54.109375 11.28125 \r\nL 54.109375 2.78125 \r\nQ 49.265625 0.734375 44.1875 -0.34375 \r\nQ 39.109375 -1.421875 33.890625 -1.421875 \r\nQ 20.796875 -1.421875 13.15625 6.1875 \r\nQ 5.515625 13.8125 5.515625 26.8125 \r\nQ 5.515625 40.234375 12.765625 48.109375 \r\nQ 20.015625 56 32.328125 56 \r\nQ 43.359375 56 49.78125 48.890625 \r\nQ 56.203125 41.796875 56.203125 29.59375 \r\nz\r\nM 47.21875 32.234375 \r\nQ 47.125 39.59375 43.09375 43.984375 \r\nQ 39.0625 48.390625 32.421875 48.390625 \r\nQ 24.90625 48.390625 20.390625 44.140625 \r\nQ 15.875 39.890625 15.1875 32.171875 \r\nz\r\n\" id=\"DejaVuSans-101\"/>\r\n       <path d=\"M 18.3125 70.21875 \r\nL 18.3125 54.6875 \r\nL 36.8125 54.6875 \r\nL 36.8125 47.703125 \r\nL 18.3125 47.703125 \r\nL 18.3125 18.015625 \r\nQ 18.3125 11.328125 20.140625 9.421875 \r\nQ 21.96875 7.515625 27.59375 7.515625 \r\nL 36.8125 7.515625 \r\nL 36.8125 0 \r\nL 27.59375 0 \r\nQ 17.1875 0 13.234375 3.875 \r\nQ 9.28125 7.765625 9.28125 18.015625 \r\nL 9.28125 47.703125 \r\nL 2.6875 47.703125 \r\nL 2.6875 54.6875 \r\nL 9.28125 54.6875 \r\nL 9.28125 70.21875 \r\nz\r\n\" id=\"DejaVuSans-116\"/>\r\n       <path id=\"DejaVuSans-32\"/>\r\n       <path d=\"M 9.421875 54.6875 \r\nL 18.40625 54.6875 \r\nL 18.40625 0 \r\nL 9.421875 0 \r\nz\r\nM 9.421875 75.984375 \r\nL 18.40625 75.984375 \r\nL 18.40625 64.59375 \r\nL 9.421875 64.59375 \r\nz\r\n\" id=\"DejaVuSans-105\"/>\r\n       <path d=\"M 45.40625 46.390625 \r\nL 45.40625 75.984375 \r\nL 54.390625 75.984375 \r\nL 54.390625 0 \r\nL 45.40625 0 \r\nL 45.40625 8.203125 \r\nQ 42.578125 3.328125 38.25 0.953125 \r\nQ 33.9375 -1.421875 27.875 -1.421875 \r\nQ 17.96875 -1.421875 11.734375 6.484375 \r\nQ 5.515625 14.40625 5.515625 27.296875 \r\nQ 5.515625 40.1875 11.734375 48.09375 \r\nQ 17.96875 56 27.875 56 \r\nQ 33.9375 56 38.25 53.625 \r\nQ 42.578125 51.265625 45.40625 46.390625 \r\nz\r\nM 14.796875 27.296875 \r\nQ 14.796875 17.390625 18.875 11.75 \r\nQ 22.953125 6.109375 30.078125 6.109375 \r\nQ 37.203125 6.109375 41.296875 11.75 \r\nQ 45.40625 17.390625 45.40625 27.296875 \r\nQ 45.40625 37.203125 41.296875 42.84375 \r\nQ 37.203125 48.484375 30.078125 48.484375 \r\nQ 22.953125 48.484375 18.875 42.84375 \r\nQ 14.796875 37.203125 14.796875 27.296875 \r\nz\r\n\" id=\"DejaVuSans-100\"/>\r\n      </defs>\r\n      <use xlink:href=\"#DejaVuSans-69\"/>\r\n      <use x=\"63.183594\" xlink:href=\"#DejaVuSans-120\"/>\r\n      <use x=\"122.363281\" xlink:href=\"#DejaVuSans-112\"/>\r\n      <use x=\"185.839844\" xlink:href=\"#DejaVuSans-111\"/>\r\n      <use x=\"247.021484\" xlink:href=\"#DejaVuSans-110\"/>\r\n      <use x=\"310.400391\" xlink:href=\"#DejaVuSans-101\"/>\r\n      <use x=\"371.923828\" xlink:href=\"#DejaVuSans-110\"/>\r\n      <use x=\"435.302734\" xlink:href=\"#DejaVuSans-116\"/>\r\n      <use x=\"474.511719\" xlink:href=\"#DejaVuSans-32\"/>\r\n      <use x=\"506.298828\" xlink:href=\"#DejaVuSans-105\"/>\r\n      <use x=\"534.082031\" xlink:href=\"#DejaVuSans-110\"/>\r\n      <use x=\"597.460938\" xlink:href=\"#DejaVuSans-100\"/>\r\n      <use x=\"660.9375\" xlink:href=\"#DejaVuSans-101\"/>\r\n      <use x=\"720.710938\" xlink:href=\"#DejaVuSans-120\"/>\r\n      <use x=\"779.890625\" xlink:href=\"#DejaVuSans-32\"/>\r\n      <use x=\"811.677734\" xlink:href=\"#DejaVuSans-110\"/>\r\n     </g>\r\n    </g>\r\n   </g>\r\n   <g id=\"matplotlib.axis_2\">\r\n    <g id=\"ytick_1\">\r\n     <g id=\"line2d_35\">\r\n      <path clip-path=\"url(#pd29d68144e)\" d=\"M 55.778125 219.119933 \r\nL 390.578125 219.119933 \r\n\" style=\"fill:none;stroke:#b0b0b0;stroke-linecap:square;stroke-width:0.8;\"/>\r\n     </g>\r\n     <g id=\"line2d_36\">\r\n      <defs>\r\n       <path d=\"M 0 0 \r\nL -3.5 0 \r\n\" id=\"m8a141f9daf\" style=\"stroke:#000000;stroke-width:0.8;\"/>\r\n      </defs>\r\n      <g>\r\n       <use style=\"stroke:#000000;stroke-width:0.8;\" x=\"55.778125\" xlink:href=\"#m8a141f9daf\" y=\"219.119933\"/>\r\n      </g>\r\n     </g>\r\n     <g id=\"text_8\">\r\n      <!-- $\\mathdefault{10^{-14}}$ -->\r\n      <g transform=\"translate(20.878125 222.919151)scale(0.1 -0.1)\">\r\n       <defs>\r\n        <path d=\"M 10.59375 35.5 \r\nL 73.1875 35.5 \r\nL 73.1875 27.203125 \r\nL 10.59375 27.203125 \r\nz\r\n\" id=\"DejaVuSans-8722\"/>\r\n       </defs>\r\n       <use transform=\"translate(0 0.684375)\" xlink:href=\"#DejaVuSans-49\"/>\r\n       <use transform=\"translate(63.623047 0.684375)\" xlink:href=\"#DejaVuSans-48\"/>\r\n       <use transform=\"translate(128.203125 38.965625)scale(0.7)\" xlink:href=\"#DejaVuSans-8722\"/>\r\n       <use transform=\"translate(186.855469 38.965625)scale(0.7)\" xlink:href=\"#DejaVuSans-49\"/>\r\n       <use transform=\"translate(231.391602 38.965625)scale(0.7)\" xlink:href=\"#DejaVuSans-52\"/>\r\n      </g>\r\n     </g>\r\n    </g>\r\n    <g id=\"ytick_2\">\r\n     <g id=\"line2d_37\">\r\n      <path clip-path=\"url(#pd29d68144e)\" d=\"M 55.778125 192.273933 \r\nL 390.578125 192.273933 \r\n\" style=\"fill:none;stroke:#b0b0b0;stroke-linecap:square;stroke-width:0.8;\"/>\r\n     </g>\r\n     <g id=\"line2d_38\">\r\n      <g>\r\n       <use style=\"stroke:#000000;stroke-width:0.8;\" x=\"55.778125\" xlink:href=\"#m8a141f9daf\" y=\"192.273933\"/>\r\n      </g>\r\n     </g>\r\n     <g id=\"text_9\">\r\n      <!-- $\\mathdefault{10^{-10}}$ -->\r\n      <g transform=\"translate(20.878125 196.073152)scale(0.1 -0.1)\">\r\n       <use transform=\"translate(0 0.765625)\" xlink:href=\"#DejaVuSans-49\"/>\r\n       <use transform=\"translate(63.623047 0.765625)\" xlink:href=\"#DejaVuSans-48\"/>\r\n       <use transform=\"translate(128.203125 39.046875)scale(0.7)\" xlink:href=\"#DejaVuSans-8722\"/>\r\n       <use transform=\"translate(186.855469 39.046875)scale(0.7)\" xlink:href=\"#DejaVuSans-49\"/>\r\n       <use transform=\"translate(231.391602 39.046875)scale(0.7)\" xlink:href=\"#DejaVuSans-48\"/>\r\n      </g>\r\n     </g>\r\n    </g>\r\n    <g id=\"ytick_3\">\r\n     <g id=\"line2d_39\">\r\n      <path clip-path=\"url(#pd29d68144e)\" d=\"M 55.778125 165.427933 \r\nL 390.578125 165.427933 \r\n\" style=\"fill:none;stroke:#b0b0b0;stroke-linecap:square;stroke-width:0.8;\"/>\r\n     </g>\r\n     <g id=\"line2d_40\">\r\n      <g>\r\n       <use style=\"stroke:#000000;stroke-width:0.8;\" x=\"55.778125\" xlink:href=\"#m8a141f9daf\" y=\"165.427933\"/>\r\n      </g>\r\n     </g>\r\n     <g id=\"text_10\">\r\n      <!-- $\\mathdefault{10^{-6}}$ -->\r\n      <g transform=\"translate(25.278125 169.227152)scale(0.1 -0.1)\">\r\n       <defs>\r\n        <path d=\"M 33.015625 40.375 \r\nQ 26.375 40.375 22.484375 35.828125 \r\nQ 18.609375 31.296875 18.609375 23.390625 \r\nQ 18.609375 15.53125 22.484375 10.953125 \r\nQ 26.375 6.390625 33.015625 6.390625 \r\nQ 39.65625 6.390625 43.53125 10.953125 \r\nQ 47.40625 15.53125 47.40625 23.390625 \r\nQ 47.40625 31.296875 43.53125 35.828125 \r\nQ 39.65625 40.375 33.015625 40.375 \r\nz\r\nM 52.59375 71.296875 \r\nL 52.59375 62.3125 \r\nQ 48.875 64.0625 45.09375 64.984375 \r\nQ 41.3125 65.921875 37.59375 65.921875 \r\nQ 27.828125 65.921875 22.671875 59.328125 \r\nQ 17.53125 52.734375 16.796875 39.40625 \r\nQ 19.671875 43.65625 24.015625 45.921875 \r\nQ 28.375 48.1875 33.59375 48.1875 \r\nQ 44.578125 48.1875 50.953125 41.515625 \r\nQ 57.328125 34.859375 57.328125 23.390625 \r\nQ 57.328125 12.15625 50.6875 5.359375 \r\nQ 44.046875 -1.421875 33.015625 -1.421875 \r\nQ 20.359375 -1.421875 13.671875 8.265625 \r\nQ 6.984375 17.96875 6.984375 36.375 \r\nQ 6.984375 53.65625 15.1875 63.9375 \r\nQ 23.390625 74.21875 37.203125 74.21875 \r\nQ 40.921875 74.21875 44.703125 73.484375 \r\nQ 48.484375 72.75 52.59375 71.296875 \r\nz\r\n\" id=\"DejaVuSans-54\"/>\r\n       </defs>\r\n       <use transform=\"translate(0 0.765625)\" xlink:href=\"#DejaVuSans-49\"/>\r\n       <use transform=\"translate(63.623047 0.765625)\" xlink:href=\"#DejaVuSans-48\"/>\r\n       <use transform=\"translate(128.203125 39.046875)scale(0.7)\" xlink:href=\"#DejaVuSans-8722\"/>\r\n       <use transform=\"translate(186.855469 39.046875)scale(0.7)\" xlink:href=\"#DejaVuSans-54\"/>\r\n      </g>\r\n     </g>\r\n    </g>\r\n    <g id=\"ytick_4\">\r\n     <g id=\"line2d_41\">\r\n      <path clip-path=\"url(#pd29d68144e)\" d=\"M 55.778125 138.581934 \r\nL 390.578125 138.581934 \r\n\" style=\"fill:none;stroke:#b0b0b0;stroke-linecap:square;stroke-width:0.8;\"/>\r\n     </g>\r\n     <g id=\"line2d_42\">\r\n      <g>\r\n       <use style=\"stroke:#000000;stroke-width:0.8;\" x=\"55.778125\" xlink:href=\"#m8a141f9daf\" y=\"138.581934\"/>\r\n      </g>\r\n     </g>\r\n     <g id=\"text_11\">\r\n      <!-- $\\mathdefault{10^{-2}}$ -->\r\n      <g transform=\"translate(25.278125 142.381152)scale(0.1 -0.1)\">\r\n       <use transform=\"translate(0 0.765625)\" xlink:href=\"#DejaVuSans-49\"/>\r\n       <use transform=\"translate(63.623047 0.765625)\" xlink:href=\"#DejaVuSans-48\"/>\r\n       <use transform=\"translate(128.203125 39.046875)scale(0.7)\" xlink:href=\"#DejaVuSans-8722\"/>\r\n       <use transform=\"translate(186.855469 39.046875)scale(0.7)\" xlink:href=\"#DejaVuSans-50\"/>\r\n      </g>\r\n     </g>\r\n    </g>\r\n    <g id=\"ytick_5\">\r\n     <g id=\"line2d_43\">\r\n      <path clip-path=\"url(#pd29d68144e)\" d=\"M 55.778125 111.735934 \r\nL 390.578125 111.735934 \r\n\" style=\"fill:none;stroke:#b0b0b0;stroke-linecap:square;stroke-width:0.8;\"/>\r\n     </g>\r\n     <g id=\"line2d_44\">\r\n      <g>\r\n       <use style=\"stroke:#000000;stroke-width:0.8;\" x=\"55.778125\" xlink:href=\"#m8a141f9daf\" y=\"111.735934\"/>\r\n      </g>\r\n     </g>\r\n     <g id=\"text_12\">\r\n      <!-- $\\mathdefault{10^{2}}$ -->\r\n      <g transform=\"translate(31.178125 115.535153)scale(0.1 -0.1)\">\r\n       <use transform=\"translate(0 0.765625)\" xlink:href=\"#DejaVuSans-49\"/>\r\n       <use transform=\"translate(63.623047 0.765625)\" xlink:href=\"#DejaVuSans-48\"/>\r\n       <use transform=\"translate(128.203125 39.046875)scale(0.7)\" xlink:href=\"#DejaVuSans-50\"/>\r\n      </g>\r\n     </g>\r\n    </g>\r\n    <g id=\"ytick_6\">\r\n     <g id=\"line2d_45\">\r\n      <path clip-path=\"url(#pd29d68144e)\" d=\"M 55.778125 84.889934 \r\nL 390.578125 84.889934 \r\n\" style=\"fill:none;stroke:#b0b0b0;stroke-linecap:square;stroke-width:0.8;\"/>\r\n     </g>\r\n     <g id=\"line2d_46\">\r\n      <g>\r\n       <use style=\"stroke:#000000;stroke-width:0.8;\" x=\"55.778125\" xlink:href=\"#m8a141f9daf\" y=\"84.889934\"/>\r\n      </g>\r\n     </g>\r\n     <g id=\"text_13\">\r\n      <!-- $\\mathdefault{10^{6}}$ -->\r\n      <g transform=\"translate(31.178125 88.689153)scale(0.1 -0.1)\">\r\n       <use transform=\"translate(0 0.765625)\" xlink:href=\"#DejaVuSans-49\"/>\r\n       <use transform=\"translate(63.623047 0.765625)\" xlink:href=\"#DejaVuSans-48\"/>\r\n       <use transform=\"translate(128.203125 39.046875)scale(0.7)\" xlink:href=\"#DejaVuSans-54\"/>\r\n      </g>\r\n     </g>\r\n    </g>\r\n    <g id=\"ytick_7\">\r\n     <g id=\"line2d_47\">\r\n      <path clip-path=\"url(#pd29d68144e)\" d=\"M 55.778125 58.043935 \r\nL 390.578125 58.043935 \r\n\" style=\"fill:none;stroke:#b0b0b0;stroke-linecap:square;stroke-width:0.8;\"/>\r\n     </g>\r\n     <g id=\"line2d_48\">\r\n      <g>\r\n       <use style=\"stroke:#000000;stroke-width:0.8;\" x=\"55.778125\" xlink:href=\"#m8a141f9daf\" y=\"58.043935\"/>\r\n      </g>\r\n     </g>\r\n     <g id=\"text_14\">\r\n      <!-- $\\mathdefault{10^{10}}$ -->\r\n      <g transform=\"translate(26.678125 61.843153)scale(0.1 -0.1)\">\r\n       <use transform=\"translate(0 0.765625)\" xlink:href=\"#DejaVuSans-49\"/>\r\n       <use transform=\"translate(63.623047 0.765625)\" xlink:href=\"#DejaVuSans-48\"/>\r\n       <use transform=\"translate(128.203125 39.046875)scale(0.7)\" xlink:href=\"#DejaVuSans-49\"/>\r\n       <use transform=\"translate(172.739258 39.046875)scale(0.7)\" xlink:href=\"#DejaVuSans-48\"/>\r\n      </g>\r\n     </g>\r\n    </g>\r\n    <g id=\"ytick_8\">\r\n     <g id=\"line2d_49\">\r\n      <path clip-path=\"url(#pd29d68144e)\" d=\"M 55.778125 31.197935 \r\nL 390.578125 31.197935 \r\n\" style=\"fill:none;stroke:#b0b0b0;stroke-linecap:square;stroke-width:0.8;\"/>\r\n     </g>\r\n     <g id=\"line2d_50\">\r\n      <g>\r\n       <use style=\"stroke:#000000;stroke-width:0.8;\" x=\"55.778125\" xlink:href=\"#m8a141f9daf\" y=\"31.197935\"/>\r\n      </g>\r\n     </g>\r\n     <g id=\"text_15\">\r\n      <!-- $\\mathdefault{10^{14}}$ -->\r\n      <g transform=\"translate(26.678125 34.997154)scale(0.1 -0.1)\">\r\n       <use transform=\"translate(0 0.684375)\" xlink:href=\"#DejaVuSans-49\"/>\r\n       <use transform=\"translate(63.623047 0.684375)\" xlink:href=\"#DejaVuSans-48\"/>\r\n       <use transform=\"translate(128.203125 38.965625)scale(0.7)\" xlink:href=\"#DejaVuSans-49\"/>\r\n       <use transform=\"translate(172.739258 38.965625)scale(0.7)\" xlink:href=\"#DejaVuSans-52\"/>\r\n      </g>\r\n     </g>\r\n    </g>\r\n    <g id=\"text_16\">\r\n     <!-- Percent error from exact solution -->\r\n     <g transform=\"translate(14.798438 213.458438)rotate(-90)scale(0.1 -0.1)\">\r\n      <defs>\r\n       <path d=\"M 19.671875 64.796875 \r\nL 19.671875 37.40625 \r\nL 32.078125 37.40625 \r\nQ 38.96875 37.40625 42.71875 40.96875 \r\nQ 46.484375 44.53125 46.484375 51.125 \r\nQ 46.484375 57.671875 42.71875 61.234375 \r\nQ 38.96875 64.796875 32.078125 64.796875 \r\nz\r\nM 9.8125 72.90625 \r\nL 32.078125 72.90625 \r\nQ 44.34375 72.90625 50.609375 67.359375 \r\nQ 56.890625 61.8125 56.890625 51.125 \r\nQ 56.890625 40.328125 50.609375 34.8125 \r\nQ 44.34375 29.296875 32.078125 29.296875 \r\nL 19.671875 29.296875 \r\nL 19.671875 0 \r\nL 9.8125 0 \r\nz\r\n\" id=\"DejaVuSans-80\"/>\r\n       <path d=\"M 41.109375 46.296875 \r\nQ 39.59375 47.171875 37.8125 47.578125 \r\nQ 36.03125 48 33.890625 48 \r\nQ 26.265625 48 22.1875 43.046875 \r\nQ 18.109375 38.09375 18.109375 28.8125 \r\nL 18.109375 0 \r\nL 9.078125 0 \r\nL 9.078125 54.6875 \r\nL 18.109375 54.6875 \r\nL 18.109375 46.1875 \r\nQ 20.953125 51.171875 25.484375 53.578125 \r\nQ 30.03125 56 36.53125 56 \r\nQ 37.453125 56 38.578125 55.875 \r\nQ 39.703125 55.765625 41.0625 55.515625 \r\nz\r\n\" id=\"DejaVuSans-114\"/>\r\n       <path d=\"M 48.78125 52.59375 \r\nL 48.78125 44.1875 \r\nQ 44.96875 46.296875 41.140625 47.34375 \r\nQ 37.3125 48.390625 33.40625 48.390625 \r\nQ 24.65625 48.390625 19.8125 42.84375 \r\nQ 14.984375 37.3125 14.984375 27.296875 \r\nQ 14.984375 17.28125 19.8125 11.734375 \r\nQ 24.65625 6.203125 33.40625 6.203125 \r\nQ 37.3125 6.203125 41.140625 7.25 \r\nQ 44.96875 8.296875 48.78125 10.40625 \r\nL 48.78125 2.09375 \r\nQ 45.015625 0.34375 40.984375 -0.53125 \r\nQ 36.96875 -1.421875 32.421875 -1.421875 \r\nQ 20.0625 -1.421875 12.78125 6.34375 \r\nQ 5.515625 14.109375 5.515625 27.296875 \r\nQ 5.515625 40.671875 12.859375 48.328125 \r\nQ 20.21875 56 33.015625 56 \r\nQ 37.15625 56 41.109375 55.140625 \r\nQ 45.0625 54.296875 48.78125 52.59375 \r\nz\r\n\" id=\"DejaVuSans-99\"/>\r\n       <path d=\"M 37.109375 75.984375 \r\nL 37.109375 68.5 \r\nL 28.515625 68.5 \r\nQ 23.6875 68.5 21.796875 66.546875 \r\nQ 19.921875 64.59375 19.921875 59.515625 \r\nL 19.921875 54.6875 \r\nL 34.71875 54.6875 \r\nL 34.71875 47.703125 \r\nL 19.921875 47.703125 \r\nL 19.921875 0 \r\nL 10.890625 0 \r\nL 10.890625 47.703125 \r\nL 2.296875 47.703125 \r\nL 2.296875 54.6875 \r\nL 10.890625 54.6875 \r\nL 10.890625 58.5 \r\nQ 10.890625 67.625 15.140625 71.796875 \r\nQ 19.390625 75.984375 28.609375 75.984375 \r\nz\r\n\" id=\"DejaVuSans-102\"/>\r\n       <path d=\"M 52 44.1875 \r\nQ 55.375 50.25 60.0625 53.125 \r\nQ 64.75 56 71.09375 56 \r\nQ 79.640625 56 84.28125 50.015625 \r\nQ 88.921875 44.046875 88.921875 33.015625 \r\nL 88.921875 0 \r\nL 79.890625 0 \r\nL 79.890625 32.71875 \r\nQ 79.890625 40.578125 77.09375 44.375 \r\nQ 74.3125 48.1875 68.609375 48.1875 \r\nQ 61.625 48.1875 57.5625 43.546875 \r\nQ 53.515625 38.921875 53.515625 30.90625 \r\nL 53.515625 0 \r\nL 44.484375 0 \r\nL 44.484375 32.71875 \r\nQ 44.484375 40.625 41.703125 44.40625 \r\nQ 38.921875 48.1875 33.109375 48.1875 \r\nQ 26.21875 48.1875 22.15625 43.53125 \r\nQ 18.109375 38.875 18.109375 30.90625 \r\nL 18.109375 0 \r\nL 9.078125 0 \r\nL 9.078125 54.6875 \r\nL 18.109375 54.6875 \r\nL 18.109375 46.1875 \r\nQ 21.1875 51.21875 25.484375 53.609375 \r\nQ 29.78125 56 35.6875 56 \r\nQ 41.65625 56 45.828125 52.96875 \r\nQ 50 49.953125 52 44.1875 \r\nz\r\n\" id=\"DejaVuSans-109\"/>\r\n       <path d=\"M 34.28125 27.484375 \r\nQ 23.390625 27.484375 19.1875 25 \r\nQ 14.984375 22.515625 14.984375 16.5 \r\nQ 14.984375 11.71875 18.140625 8.90625 \r\nQ 21.296875 6.109375 26.703125 6.109375 \r\nQ 34.1875 6.109375 38.703125 11.40625 \r\nQ 43.21875 16.703125 43.21875 25.484375 \r\nL 43.21875 27.484375 \r\nz\r\nM 52.203125 31.203125 \r\nL 52.203125 0 \r\nL 43.21875 0 \r\nL 43.21875 8.296875 \r\nQ 40.140625 3.328125 35.546875 0.953125 \r\nQ 30.953125 -1.421875 24.3125 -1.421875 \r\nQ 15.921875 -1.421875 10.953125 3.296875 \r\nQ 6 8.015625 6 15.921875 \r\nQ 6 25.140625 12.171875 29.828125 \r\nQ 18.359375 34.515625 30.609375 34.515625 \r\nL 43.21875 34.515625 \r\nL 43.21875 35.40625 \r\nQ 43.21875 41.609375 39.140625 45 \r\nQ 35.0625 48.390625 27.6875 48.390625 \r\nQ 23 48.390625 18.546875 47.265625 \r\nQ 14.109375 46.140625 10.015625 43.890625 \r\nL 10.015625 52.203125 \r\nQ 14.9375 54.109375 19.578125 55.046875 \r\nQ 24.21875 56 28.609375 56 \r\nQ 40.484375 56 46.34375 49.84375 \r\nQ 52.203125 43.703125 52.203125 31.203125 \r\nz\r\n\" id=\"DejaVuSans-97\"/>\r\n       <path d=\"M 44.28125 53.078125 \r\nL 44.28125 44.578125 \r\nQ 40.484375 46.53125 36.375 47.5 \r\nQ 32.28125 48.484375 27.875 48.484375 \r\nQ 21.1875 48.484375 17.84375 46.4375 \r\nQ 14.5 44.390625 14.5 40.28125 \r\nQ 14.5 37.15625 16.890625 35.375 \r\nQ 19.28125 33.59375 26.515625 31.984375 \r\nL 29.59375 31.296875 \r\nQ 39.15625 29.25 43.1875 25.515625 \r\nQ 47.21875 21.78125 47.21875 15.09375 \r\nQ 47.21875 7.46875 41.1875 3.015625 \r\nQ 35.15625 -1.421875 24.609375 -1.421875 \r\nQ 20.21875 -1.421875 15.453125 -0.5625 \r\nQ 10.6875 0.296875 5.421875 2 \r\nL 5.421875 11.28125 \r\nQ 10.40625 8.6875 15.234375 7.390625 \r\nQ 20.0625 6.109375 24.8125 6.109375 \r\nQ 31.15625 6.109375 34.5625 8.28125 \r\nQ 37.984375 10.453125 37.984375 14.40625 \r\nQ 37.984375 18.0625 35.515625 20.015625 \r\nQ 33.0625 21.96875 24.703125 23.78125 \r\nL 21.578125 24.515625 \r\nQ 13.234375 26.265625 9.515625 29.90625 \r\nQ 5.8125 33.546875 5.8125 39.890625 \r\nQ 5.8125 47.609375 11.28125 51.796875 \r\nQ 16.75 56 26.8125 56 \r\nQ 31.78125 56 36.171875 55.265625 \r\nQ 40.578125 54.546875 44.28125 53.078125 \r\nz\r\n\" id=\"DejaVuSans-115\"/>\r\n       <path d=\"M 9.421875 75.984375 \r\nL 18.40625 75.984375 \r\nL 18.40625 0 \r\nL 9.421875 0 \r\nz\r\n\" id=\"DejaVuSans-108\"/>\r\n       <path d=\"M 8.5 21.578125 \r\nL 8.5 54.6875 \r\nL 17.484375 54.6875 \r\nL 17.484375 21.921875 \r\nQ 17.484375 14.15625 20.5 10.265625 \r\nQ 23.53125 6.390625 29.59375 6.390625 \r\nQ 36.859375 6.390625 41.078125 11.03125 \r\nQ 45.3125 15.671875 45.3125 23.6875 \r\nL 45.3125 54.6875 \r\nL 54.296875 54.6875 \r\nL 54.296875 0 \r\nL 45.3125 0 \r\nL 45.3125 8.40625 \r\nQ 42.046875 3.421875 37.71875 1 \r\nQ 33.40625 -1.421875 27.6875 -1.421875 \r\nQ 18.265625 -1.421875 13.375 4.4375 \r\nQ 8.5 10.296875 8.5 21.578125 \r\nz\r\nM 31.109375 56 \r\nz\r\n\" id=\"DejaVuSans-117\"/>\r\n      </defs>\r\n      <use xlink:href=\"#DejaVuSans-80\"/>\r\n      <use x=\"56.677734\" xlink:href=\"#DejaVuSans-101\"/>\r\n      <use x=\"118.201172\" xlink:href=\"#DejaVuSans-114\"/>\r\n      <use x=\"157.064453\" xlink:href=\"#DejaVuSans-99\"/>\r\n      <use x=\"212.044922\" xlink:href=\"#DejaVuSans-101\"/>\r\n      <use x=\"273.568359\" xlink:href=\"#DejaVuSans-110\"/>\r\n      <use x=\"336.947266\" xlink:href=\"#DejaVuSans-116\"/>\r\n      <use x=\"376.15625\" xlink:href=\"#DejaVuSans-32\"/>\r\n      <use x=\"407.943359\" xlink:href=\"#DejaVuSans-101\"/>\r\n      <use x=\"469.466797\" xlink:href=\"#DejaVuSans-114\"/>\r\n      <use x=\"508.830078\" xlink:href=\"#DejaVuSans-114\"/>\r\n      <use x=\"547.693359\" xlink:href=\"#DejaVuSans-111\"/>\r\n      <use x=\"608.875\" xlink:href=\"#DejaVuSans-114\"/>\r\n      <use x=\"649.988281\" xlink:href=\"#DejaVuSans-32\"/>\r\n      <use x=\"681.775391\" xlink:href=\"#DejaVuSans-102\"/>\r\n      <use x=\"716.980469\" xlink:href=\"#DejaVuSans-114\"/>\r\n      <use x=\"755.84375\" xlink:href=\"#DejaVuSans-111\"/>\r\n      <use x=\"817.025391\" xlink:href=\"#DejaVuSans-109\"/>\r\n      <use x=\"914.4375\" xlink:href=\"#DejaVuSans-32\"/>\r\n      <use x=\"946.224609\" xlink:href=\"#DejaVuSans-101\"/>\r\n      <use x=\"1005.998047\" xlink:href=\"#DejaVuSans-120\"/>\r\n      <use x=\"1065.177734\" xlink:href=\"#DejaVuSans-97\"/>\r\n      <use x=\"1126.457031\" xlink:href=\"#DejaVuSans-99\"/>\r\n      <use x=\"1181.4375\" xlink:href=\"#DejaVuSans-116\"/>\r\n      <use x=\"1220.646484\" xlink:href=\"#DejaVuSans-32\"/>\r\n      <use x=\"1252.433594\" xlink:href=\"#DejaVuSans-115\"/>\r\n      <use x=\"1304.533203\" xlink:href=\"#DejaVuSans-111\"/>\r\n      <use x=\"1365.714844\" xlink:href=\"#DejaVuSans-108\"/>\r\n      <use x=\"1393.498047\" xlink:href=\"#DejaVuSans-117\"/>\r\n      <use x=\"1456.876953\" xlink:href=\"#DejaVuSans-116\"/>\r\n      <use x=\"1496.085938\" xlink:href=\"#DejaVuSans-105\"/>\r\n      <use x=\"1523.869141\" xlink:href=\"#DejaVuSans-111\"/>\r\n      <use x=\"1585.050781\" xlink:href=\"#DejaVuSans-110\"/>\r\n     </g>\r\n    </g>\r\n   </g>\r\n   <g id=\"line2d_51\">\r\n    <path clip-path=\"url(#pd29d68144e)\" d=\"M 83.124374 278.314375 \r\nL 83.170852 227.854126 \r\nL 89.258125 222.631564 \r\nL 95.345398 218.247528 \r\nL 101.43267 214.095112 \r\nL 107.519943 210.008858 \r\nL 113.607216 205.957658 \r\nL 119.694489 201.913675 \r\nL 125.781761 197.871906 \r\nL 131.869034 193.830888 \r\nL 137.956307 189.790089 \r\nL 144.04358 185.749341 \r\nL 150.130852 181.70861 \r\nL 156.218125 177.667883 \r\nL 162.305398 173.627157 \r\nL 168.39267 169.586431 \r\nL 174.479943 165.545706 \r\nL 180.567216 161.50498 \r\nL 186.654489 157.464254 \r\nL 192.741761 153.423529 \r\nL 198.829034 149.382803 \r\nL 204.916307 145.342078 \r\nL 211.00358 141.301352 \r\nL 217.090852 137.260626 \r\nL 223.178125 133.219901 \r\nL 229.265398 129.179175 \r\nL 235.35267 125.13845 \r\nL 241.439943 121.097724 \r\nL 247.527216 117.056999 \r\nL 253.614489 113.016273 \r\nL 259.701761 108.975547 \r\nL 265.789034 104.934822 \r\nL 271.876307 100.894096 \r\nL 277.96358 96.853371 \r\nL 284.050852 92.812645 \r\nL 290.138125 88.771919 \r\nL 296.225398 84.731194 \r\nL 302.31267 80.690468 \r\nL 308.399943 76.649743 \r\nL 314.487216 72.609017 \r\nL 320.574489 68.568292 \r\nL 326.661761 64.527566 \r\nL 332.749034 60.48684 \r\nL 338.836307 56.446115 \r\nL 344.92358 52.405389 \r\nL 351.010852 48.364664 \r\nL 357.098125 44.323938 \r\nL 363.185398 40.283213 \r\nL 369.27267 36.242487 \r\nL 375.359943 32.201761 \r\n\" style=\"fill:none;stroke:#1f77b4;stroke-linecap:square;stroke-width:1.5;\"/>\r\n   </g>\r\n   <g id=\"line2d_52\">\r\n    <path clip-path=\"url(#pd29d68144e)\" d=\"M 83.126221 278.314375 \r\nL 83.170852 229.874489 \r\nL 89.258125 226.672289 \r\nL 95.345398 224.308616 \r\nL 101.43267 222.476368 \r\nL 107.519943 220.683245 \r\nL 113.607216 219.23796 \r\nL 119.694489 217.847838 \r\nL 125.781761 216.471611 \r\nL 131.869034 215.16703 \r\nL 137.956307 213.903708 \r\nL 144.04358 212.660429 \r\nL 150.130852 211.432467 \r\nL 156.218125 210.2139 \r\nL 162.305398 209.007831 \r\nL 168.39267 207.809666 \r\nL 174.479943 206.617563 \r\nL 180.567216 205.428476 \r\nL 186.654489 204.241958 \r\nL 192.741761 203.056934 \r\nL 198.829034 201.872868 \r\nL 204.916307 200.68944 \r\nL 211.00358 199.506437 \r\nL 217.090852 198.3237 \r\nL 223.178125 197.141254 \r\nL 229.265398 195.958994 \r\nL 235.35267 194.776853 \r\nL 241.439943 193.594798 \r\nL 247.527216 192.412809 \r\nL 253.614489 191.230863 \r\nL 259.701761 190.048949 \r\nL 265.789034 188.86706 \r\nL 271.876307 187.685187 \r\nL 277.96358 186.503325 \r\nL 284.050852 185.321472 \r\nL 290.138125 184.139623 \r\nL 296.225398 182.957779 \r\nL 302.31267 181.775937 \r\nL 308.399943 180.594096 \r\nL 314.487216 179.412257 \r\nL 320.574489 178.230419 \r\nL 326.661761 177.048581 \r\nL 332.749034 175.866744 \r\nL 338.836307 174.684907 \r\nL 344.92358 173.50307 \r\nL 351.010852 172.321233 \r\nL 357.098125 171.139397 \r\nL 363.185398 169.95756 \r\nL 369.27267 168.775723 \r\nL 375.359943 167.593887 \r\n\" style=\"fill:none;stroke:#ff7f0e;stroke-linecap:square;stroke-width:1.5;\"/>\r\n   </g>\r\n   <g id=\"line2d_53\">\r\n    <path clip-path=\"url(#pd29d68144e)\" d=\"M 55.778125 125.158934 \r\nL 390.578125 125.158934 \r\n\" style=\"fill:none;stroke:#ff0000;stroke-linecap:square;stroke-width:1.5;\"/>\r\n   </g>\r\n   <g id=\"patch_3\">\r\n    <path d=\"M 55.778125 239.758125 \r\nL 55.778125 22.318125 \r\n\" style=\"fill:none;stroke:#000000;stroke-linecap:square;stroke-linejoin:miter;stroke-width:0.8;\"/>\r\n   </g>\r\n   <g id=\"patch_4\">\r\n    <path d=\"M 390.578125 239.758125 \r\nL 390.578125 22.318125 \r\n\" style=\"fill:none;stroke:#000000;stroke-linecap:square;stroke-linejoin:miter;stroke-width:0.8;\"/>\r\n   </g>\r\n   <g id=\"patch_5\">\r\n    <path d=\"M 55.778125 239.758125 \r\nL 390.578125 239.758125 \r\n\" style=\"fill:none;stroke:#000000;stroke-linecap:square;stroke-linejoin:miter;stroke-width:0.8;\"/>\r\n   </g>\r\n   <g id=\"patch_6\">\r\n    <path d=\"M 55.778125 22.318125 \r\nL 390.578125 22.318125 \r\n\" style=\"fill:none;stroke:#000000;stroke-linecap:square;stroke-linejoin:miter;stroke-width:0.8;\"/>\r\n   </g>\r\n   <g id=\"text_17\">\r\n    <!-- Comparison of error between 2 recursive functions for 1/3^n -->\r\n    <g transform=\"translate(39.930625 16.318125)scale(0.12 -0.12)\">\r\n     <defs>\r\n      <path d=\"M 64.40625 67.28125 \r\nL 64.40625 56.890625 \r\nQ 59.421875 61.53125 53.78125 63.8125 \r\nQ 48.140625 66.109375 41.796875 66.109375 \r\nQ 29.296875 66.109375 22.65625 58.46875 \r\nQ 16.015625 50.828125 16.015625 36.375 \r\nQ 16.015625 21.96875 22.65625 14.328125 \r\nQ 29.296875 6.6875 41.796875 6.6875 \r\nQ 48.140625 6.6875 53.78125 8.984375 \r\nQ 59.421875 11.28125 64.40625 15.921875 \r\nL 64.40625 5.609375 \r\nQ 59.234375 2.09375 53.4375 0.328125 \r\nQ 47.65625 -1.421875 41.21875 -1.421875 \r\nQ 24.65625 -1.421875 15.125 8.703125 \r\nQ 5.609375 18.84375 5.609375 36.375 \r\nQ 5.609375 53.953125 15.125 64.078125 \r\nQ 24.65625 74.21875 41.21875 74.21875 \r\nQ 47.75 74.21875 53.53125 72.484375 \r\nQ 59.328125 70.75 64.40625 67.28125 \r\nz\r\n\" id=\"DejaVuSans-67\"/>\r\n      <path d=\"M 48.6875 27.296875 \r\nQ 48.6875 37.203125 44.609375 42.84375 \r\nQ 40.53125 48.484375 33.40625 48.484375 \r\nQ 26.265625 48.484375 22.1875 42.84375 \r\nQ 18.109375 37.203125 18.109375 27.296875 \r\nQ 18.109375 17.390625 22.1875 11.75 \r\nQ 26.265625 6.109375 33.40625 6.109375 \r\nQ 40.53125 6.109375 44.609375 11.75 \r\nQ 48.6875 17.390625 48.6875 27.296875 \r\nz\r\nM 18.109375 46.390625 \r\nQ 20.953125 51.265625 25.265625 53.625 \r\nQ 29.59375 56 35.59375 56 \r\nQ 45.5625 56 51.78125 48.09375 \r\nQ 58.015625 40.1875 58.015625 27.296875 \r\nQ 58.015625 14.40625 51.78125 6.484375 \r\nQ 45.5625 -1.421875 35.59375 -1.421875 \r\nQ 29.59375 -1.421875 25.265625 0.953125 \r\nQ 20.953125 3.328125 18.109375 8.203125 \r\nL 18.109375 0 \r\nL 9.078125 0 \r\nL 9.078125 75.984375 \r\nL 18.109375 75.984375 \r\nz\r\n\" id=\"DejaVuSans-98\"/>\r\n      <path d=\"M 4.203125 54.6875 \r\nL 13.1875 54.6875 \r\nL 24.421875 12.015625 \r\nL 35.59375 54.6875 \r\nL 46.1875 54.6875 \r\nL 57.421875 12.015625 \r\nL 68.609375 54.6875 \r\nL 77.59375 54.6875 \r\nL 63.28125 0 \r\nL 52.6875 0 \r\nL 40.921875 44.828125 \r\nL 29.109375 0 \r\nL 18.5 0 \r\nz\r\n\" id=\"DejaVuSans-119\"/>\r\n      <path d=\"M 2.984375 54.6875 \r\nL 12.5 54.6875 \r\nL 29.59375 8.796875 \r\nL 46.6875 54.6875 \r\nL 56.203125 54.6875 \r\nL 35.6875 0 \r\nL 23.484375 0 \r\nz\r\n\" id=\"DejaVuSans-118\"/>\r\n      <path d=\"M 25.390625 72.90625 \r\nL 33.6875 72.90625 \r\nL 8.296875 -9.28125 \r\nL 0 -9.28125 \r\nz\r\n\" id=\"DejaVuSans-47\"/>\r\n      <path d=\"M 46.6875 72.90625 \r\nL 73.1875 45.703125 \r\nL 63.375 45.703125 \r\nL 41.890625 64.984375 \r\nL 20.40625 45.703125 \r\nL 10.59375 45.703125 \r\nL 37.109375 72.90625 \r\nz\r\n\" id=\"DejaVuSans-94\"/>\r\n     </defs>\r\n     <use xlink:href=\"#DejaVuSans-67\"/>\r\n     <use x=\"69.824219\" xlink:href=\"#DejaVuSans-111\"/>\r\n     <use x=\"131.005859\" xlink:href=\"#DejaVuSans-109\"/>\r\n     <use x=\"228.417969\" xlink:href=\"#DejaVuSans-112\"/>\r\n     <use x=\"291.894531\" xlink:href=\"#DejaVuSans-97\"/>\r\n     <use x=\"353.173828\" xlink:href=\"#DejaVuSans-114\"/>\r\n     <use x=\"394.287109\" xlink:href=\"#DejaVuSans-105\"/>\r\n     <use x=\"422.070312\" xlink:href=\"#DejaVuSans-115\"/>\r\n     <use x=\"474.169922\" xlink:href=\"#DejaVuSans-111\"/>\r\n     <use x=\"535.351562\" xlink:href=\"#DejaVuSans-110\"/>\r\n     <use x=\"598.730469\" xlink:href=\"#DejaVuSans-32\"/>\r\n     <use x=\"630.517578\" xlink:href=\"#DejaVuSans-111\"/>\r\n     <use x=\"691.699219\" xlink:href=\"#DejaVuSans-102\"/>\r\n     <use x=\"726.904297\" xlink:href=\"#DejaVuSans-32\"/>\r\n     <use x=\"758.691406\" xlink:href=\"#DejaVuSans-101\"/>\r\n     <use x=\"820.214844\" xlink:href=\"#DejaVuSans-114\"/>\r\n     <use x=\"859.578125\" xlink:href=\"#DejaVuSans-114\"/>\r\n     <use x=\"898.441406\" xlink:href=\"#DejaVuSans-111\"/>\r\n     <use x=\"959.623047\" xlink:href=\"#DejaVuSans-114\"/>\r\n     <use x=\"1000.736328\" xlink:href=\"#DejaVuSans-32\"/>\r\n     <use x=\"1032.523438\" xlink:href=\"#DejaVuSans-98\"/>\r\n     <use x=\"1096\" xlink:href=\"#DejaVuSans-101\"/>\r\n     <use x=\"1157.523438\" xlink:href=\"#DejaVuSans-116\"/>\r\n     <use x=\"1196.732422\" xlink:href=\"#DejaVuSans-119\"/>\r\n     <use x=\"1278.519531\" xlink:href=\"#DejaVuSans-101\"/>\r\n     <use x=\"1340.042969\" xlink:href=\"#DejaVuSans-101\"/>\r\n     <use x=\"1401.566406\" xlink:href=\"#DejaVuSans-110\"/>\r\n     <use x=\"1464.945312\" xlink:href=\"#DejaVuSans-32\"/>\r\n     <use x=\"1496.732422\" xlink:href=\"#DejaVuSans-50\"/>\r\n     <use x=\"1560.355469\" xlink:href=\"#DejaVuSans-32\"/>\r\n     <use x=\"1592.142578\" xlink:href=\"#DejaVuSans-114\"/>\r\n     <use x=\"1631.005859\" xlink:href=\"#DejaVuSans-101\"/>\r\n     <use x=\"1692.529297\" xlink:href=\"#DejaVuSans-99\"/>\r\n     <use x=\"1747.509766\" xlink:href=\"#DejaVuSans-117\"/>\r\n     <use x=\"1810.888672\" xlink:href=\"#DejaVuSans-114\"/>\r\n     <use x=\"1852.001953\" xlink:href=\"#DejaVuSans-115\"/>\r\n     <use x=\"1904.101562\" xlink:href=\"#DejaVuSans-105\"/>\r\n     <use x=\"1931.884766\" xlink:href=\"#DejaVuSans-118\"/>\r\n     <use x=\"1991.064453\" xlink:href=\"#DejaVuSans-101\"/>\r\n     <use x=\"2052.587891\" xlink:href=\"#DejaVuSans-32\"/>\r\n     <use x=\"2084.375\" xlink:href=\"#DejaVuSans-102\"/>\r\n     <use x=\"2119.580078\" xlink:href=\"#DejaVuSans-117\"/>\r\n     <use x=\"2182.958984\" xlink:href=\"#DejaVuSans-110\"/>\r\n     <use x=\"2246.337891\" xlink:href=\"#DejaVuSans-99\"/>\r\n     <use x=\"2301.318359\" xlink:href=\"#DejaVuSans-116\"/>\r\n     <use x=\"2340.527344\" xlink:href=\"#DejaVuSans-105\"/>\r\n     <use x=\"2368.310547\" xlink:href=\"#DejaVuSans-111\"/>\r\n     <use x=\"2429.492188\" xlink:href=\"#DejaVuSans-110\"/>\r\n     <use x=\"2492.871094\" xlink:href=\"#DejaVuSans-115\"/>\r\n     <use x=\"2544.970703\" xlink:href=\"#DejaVuSans-32\"/>\r\n     <use x=\"2576.757812\" xlink:href=\"#DejaVuSans-102\"/>\r\n     <use x=\"2611.962891\" xlink:href=\"#DejaVuSans-111\"/>\r\n     <use x=\"2673.144531\" xlink:href=\"#DejaVuSans-114\"/>\r\n     <use x=\"2714.257812\" xlink:href=\"#DejaVuSans-32\"/>\r\n     <use x=\"2746.044922\" xlink:href=\"#DejaVuSans-49\"/>\r\n     <use x=\"2809.667969\" xlink:href=\"#DejaVuSans-47\"/>\r\n     <use x=\"2843.359375\" xlink:href=\"#DejaVuSans-51\"/>\r\n     <use x=\"2906.982422\" xlink:href=\"#DejaVuSans-94\"/>\r\n     <use x=\"2990.771484\" xlink:href=\"#DejaVuSans-110\"/>\r\n    </g>\r\n   </g>\r\n   <g id=\"legend_1\">\r\n    <g id=\"patch_7\">\r\n     <path d=\"M 62.778125 74.3525 \r\nL 130.198438 74.3525 \r\nQ 132.198438 74.3525 132.198438 72.3525 \r\nL 132.198438 29.318125 \r\nQ 132.198438 27.318125 130.198438 27.318125 \r\nL 62.778125 27.318125 \r\nQ 60.778125 27.318125 60.778125 29.318125 \r\nL 60.778125 72.3525 \r\nQ 60.778125 74.3525 62.778125 74.3525 \r\nz\r\n\" style=\"fill:#ffffff;opacity:0.8;stroke:#cccccc;stroke-linejoin:miter;\"/>\r\n    </g>\r\n    <g id=\"line2d_54\">\r\n     <path d=\"M 64.778125 35.416562 \r\nL 84.778125 35.416562 \r\n\" style=\"fill:none;stroke:#1f77b4;stroke-linecap:square;stroke-width:1.5;\"/>\r\n    </g>\r\n    <g id=\"line2d_55\"/>\r\n    <g id=\"text_18\">\r\n     <!-- Q Error -->\r\n     <g transform=\"translate(92.778125 38.916562)scale(0.1 -0.1)\">\r\n      <defs>\r\n       <path d=\"M 39.40625 66.21875 \r\nQ 28.65625 66.21875 22.328125 58.203125 \r\nQ 16.015625 50.203125 16.015625 36.375 \r\nQ 16.015625 22.609375 22.328125 14.59375 \r\nQ 28.65625 6.59375 39.40625 6.59375 \r\nQ 50.140625 6.59375 56.421875 14.59375 \r\nQ 62.703125 22.609375 62.703125 36.375 \r\nQ 62.703125 50.203125 56.421875 58.203125 \r\nQ 50.140625 66.21875 39.40625 66.21875 \r\nz\r\nM 53.21875 1.3125 \r\nL 66.21875 -12.890625 \r\nL 54.296875 -12.890625 \r\nL 43.5 -1.21875 \r\nQ 41.890625 -1.3125 41.03125 -1.359375 \r\nQ 40.1875 -1.421875 39.40625 -1.421875 \r\nQ 24.03125 -1.421875 14.8125 8.859375 \r\nQ 5.609375 19.140625 5.609375 36.375 \r\nQ 5.609375 53.65625 14.8125 63.9375 \r\nQ 24.03125 74.21875 39.40625 74.21875 \r\nQ 54.734375 74.21875 63.90625 63.9375 \r\nQ 73.09375 53.65625 73.09375 36.375 \r\nQ 73.09375 23.6875 67.984375 14.640625 \r\nQ 62.890625 5.609375 53.21875 1.3125 \r\nz\r\n\" id=\"DejaVuSans-81\"/>\r\n      </defs>\r\n      <use xlink:href=\"#DejaVuSans-81\"/>\r\n      <use x=\"78.710938\" xlink:href=\"#DejaVuSans-32\"/>\r\n      <use x=\"110.498047\" xlink:href=\"#DejaVuSans-69\"/>\r\n      <use x=\"173.681641\" xlink:href=\"#DejaVuSans-114\"/>\r\n      <use x=\"213.044922\" xlink:href=\"#DejaVuSans-114\"/>\r\n      <use x=\"251.908203\" xlink:href=\"#DejaVuSans-111\"/>\r\n      <use x=\"313.089844\" xlink:href=\"#DejaVuSans-114\"/>\r\n     </g>\r\n    </g>\r\n    <g id=\"line2d_56\">\r\n     <path d=\"M 64.778125 50.094687 \r\nL 84.778125 50.094687 \r\n\" style=\"fill:none;stroke:#ff7f0e;stroke-linecap:square;stroke-width:1.5;\"/>\r\n    </g>\r\n    <g id=\"line2d_57\"/>\r\n    <g id=\"text_19\">\r\n     <!-- P Error -->\r\n     <g transform=\"translate(92.778125 53.594687)scale(0.1 -0.1)\">\r\n      <use xlink:href=\"#DejaVuSans-80\"/>\r\n      <use x=\"60.302734\" xlink:href=\"#DejaVuSans-32\"/>\r\n      <use x=\"92.089844\" xlink:href=\"#DejaVuSans-69\"/>\r\n      <use x=\"155.273438\" xlink:href=\"#DejaVuSans-114\"/>\r\n      <use x=\"194.636719\" xlink:href=\"#DejaVuSans-114\"/>\r\n      <use x=\"233.5\" xlink:href=\"#DejaVuSans-111\"/>\r\n      <use x=\"294.681641\" xlink:href=\"#DejaVuSans-114\"/>\r\n     </g>\r\n    </g>\r\n    <g id=\"line2d_58\">\r\n     <path d=\"M 64.778125 64.772812 \r\nL 84.778125 64.772812 \r\n\" style=\"fill:none;stroke:#ff0000;stroke-linecap:square;stroke-width:1.5;\"/>\r\n    </g>\r\n    <g id=\"line2d_59\"/>\r\n    <g id=\"text_20\">\r\n     <!-- y=1 -->\r\n     <g transform=\"translate(92.778125 68.272812)scale(0.1 -0.1)\">\r\n      <defs>\r\n       <path d=\"M 32.171875 -5.078125 \r\nQ 28.375 -14.84375 24.75 -17.8125 \r\nQ 21.140625 -20.796875 15.09375 -20.796875 \r\nL 7.90625 -20.796875 \r\nL 7.90625 -13.28125 \r\nL 13.1875 -13.28125 \r\nQ 16.890625 -13.28125 18.9375 -11.515625 \r\nQ 21 -9.765625 23.484375 -3.21875 \r\nL 25.09375 0.875 \r\nL 2.984375 54.6875 \r\nL 12.5 54.6875 \r\nL 29.59375 11.921875 \r\nL 46.6875 54.6875 \r\nL 56.203125 54.6875 \r\nz\r\n\" id=\"DejaVuSans-121\"/>\r\n       <path d=\"M 10.59375 45.40625 \r\nL 73.1875 45.40625 \r\nL 73.1875 37.203125 \r\nL 10.59375 37.203125 \r\nz\r\nM 10.59375 25.484375 \r\nL 73.1875 25.484375 \r\nL 73.1875 17.1875 \r\nL 10.59375 17.1875 \r\nz\r\n\" id=\"DejaVuSans-61\"/>\r\n      </defs>\r\n      <use xlink:href=\"#DejaVuSans-121\"/>\r\n      <use x=\"59.179688\" xlink:href=\"#DejaVuSans-61\"/>\r\n      <use x=\"142.96875\" xlink:href=\"#DejaVuSans-49\"/>\r\n     </g>\r\n    </g>\r\n   </g>\r\n  </g>\r\n </g>\r\n <defs>\r\n  <clipPath id=\"pd29d68144e\">\r\n   <rect height=\"217.44\" width=\"334.8\" x=\"55.778125\" y=\"22.318125\"/>\r\n  </clipPath>\r\n </defs>\r\n</svg>\r\n",
      "image/png": "[encoded data removed]"
     },
     "metadata": {
      "needs_background": "light"
     }
    }
   ],
   "source": [
    "# YOUR CODE HERE\n",
    "xaxis = range(0,51)\n",
    "plt.semilogy(xaxis,qerror, label=\"Q Error\")\n",
    "plt.semilogy(xaxis,perror, label=\"P Error\")\n",
    "plt.axhline(y=1,color='r', label=\"y=1\")\n",
    "plt.title(\"Comparison of error between 2 recursive functions for 1/3^n\")\n",
    "plt.xlabel(\"Exponent index n\")\n",
    "plt.ylabel(\"Percent error from exact solution\")\n",
    "plt.legend()\n",
    "plt.minorticks_on()\n",
    "plt.grid()"
   ]
  },
  {
   "cell_type": "markdown",
   "metadata": {},
   "source": [
    "From the plot we can clearly see that the errors in the $q$ recursion algorithm not only grow much more quickly than those from the $p$ recursion algorithm, but become absurdly large.  This algorithm is not usable for actual computations! "
   ]
  },
  {
   "cell_type": "markdown",
   "metadata": {},
   "source": [
    "## Turning in the Assignment\n",
    "\n",
    "Once everything is completed, the assignment should be submitted by uploading it via canvas.  For a group assignment, only one member of the group needs to submit the lab.  Just make sure somebody does it!"
   ]
  },
  {
   "cell_type": "markdown",
   "metadata": {},
   "source": [
    "## Member Participation\n",
    "\n",
    "In the following cell enter the name for each student in the group who partcipated in this lab.  This is not just a list of group members, we already know who is in each group.  Participation means having taken an active role in its development through discussions, coding, *etc.*  By being included in this list you are affirming that each student is justified in claiming this lab as their work.  If there are any questions or concerns regarding this, please contact the course instructor."
   ]
  },
  {
   "cell_type": "code",
   "execution_count": 17,
   "metadata": {},
   "outputs": [
    {
     "output_type": "stream",
     "name": "stdout",
     "text": [
      "Jeff Ahlers (I think my lab partner is dropping. They haven't responded to my email trying to setup a time)\n"
     ]
    }
   ],
   "source": [
    "print(\"Jeff Ahlers (I think my lab partner is dropping. They haven't responded to my email trying to setup a time)\")"
   ]
  }
 ],
 "metadata": {
  "kernelspec": {
   "display_name": "Python 3",
   "language": "python",
   "name": "python3"
  },
  "language_info": {
   "codemirror_mode": {
    "name": "ipython",
    "version": 3
   },
   "file_extension": ".py",
   "mimetype": "text/x-python",
   "name": "python",
   "nbconvert_exporter": "python",
   "pygments_lexer": "ipython3",
   "version": "3.8.5-final"
  }
 },
 "nbformat": 4,
 "nbformat_minor": 2
}